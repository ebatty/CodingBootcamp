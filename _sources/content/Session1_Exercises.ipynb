{
 "nbformat": 4,
 "nbformat_minor": 0,
 "metadata": {
  "colab": {
   "provenance": [],
   "authorship_tag": "ABX9TyP9xZR4ZpQGAjvqde8XLKwg",
   "include_colab_link": true
  },
  "kernelspec": {
   "name": "python3",
   "display_name": "Python 3"
  },
  "language_info": {
   "name": "python"
  }
 },
 "cells": [
  {
   "cell_type": "markdown",
   "metadata": {
    "id": "view-in-github",
    "colab_type": "text"
   },
   "source": [
    "<a href=\"https://colab.research.google.com/github/ebatty/CodingBootcamp/blob/main/content/Session1_Exercises.ipynb\" target=\"_blank\"><img alt=\"Open In Colab\" src=\"https://colab.research.google.com/assets/colab-badge.svg\"/></a>"
   ]
  },
  {
   "cell_type": "markdown",
   "source": [
    "# Session 1 Exercises\n",
    "\n",
    "## Your name here"
   ],
   "metadata": {
    "id": "4hDW9ilSTqQ-"
   }
  },
  {
   "cell_type": "code",
   "source": [],
   "metadata": {
    "id": "h5N4TBNfno7B"
   },
   "execution_count": null,
   "outputs": []
  },
  {
   "cell_type": "markdown",
   "source": [
    "## Working with Spike Data\n",
    "\n",
    "Let's dive into some neuroscience! We have a monkey performing a task where they make repeated reaching movements to the same target. We record from a neuron in the monkey's motor cortex and get spike counts in different time bins for every trial (repeated reach movement).\n",
    "\n",
    "The next cell loads in this spike count data into a variable called `spikes`. The rows are the different trials and the columns are different time bins. Each time bin is 1 milisecond long.\n",
    "\n",
    "Disclaimer: this data is simulated to better suit our purposes"
   ],
   "metadata": {
    "id": "ftiEkGWZ8RYX"
   }
  },
  {
   "cell_type": "code",
   "source": [
    "import numpy as np\n",
    "import matplotlib.pyplot as plt\n",
    "\n",
    "\n",
    "import requests\n",
    "import io\n",
    "\n",
    "r = requests.get('https://osf.io/xr9kc/download')\n",
    "\n",
    "spikes = np.load(io.BytesIO(r.content))\n",
    "\n",
    "\n",
    "dt = 0.001 # in seconds, each time bin is 1 ms"
   ],
   "metadata": {
    "id": "HlGXlRpY8fY_"
   },
   "execution_count": 1,
   "outputs": []
  },
  {
   "cell_type": "markdown",
   "source": [
    "1. How many trials are contained in this data?"
   ],
   "metadata": {
    "id": "rfAUkRRgUCZR"
   }
  },
  {
   "cell_type": "code",
   "source": [],
   "metadata": {
    "id": "Wa6bBM6tXiLW"
   },
   "execution_count": null,
   "outputs": []
  },
  {
   "cell_type": "markdown",
   "source": [
    "Write your answer here (double click on cell to edit it)"
   ],
   "metadata": {
    "id": "nDB5SsImqXsa"
   }
  },
  {
   "cell_type": "markdown",
   "source": [
    "2. How many time bins are in this data?"
   ],
   "metadata": {
    "id": "5Jkj5KxgUKWy"
   }
  },
  {
   "cell_type": "code",
   "source": [],
   "metadata": {
    "id": "9gJ0zZeQTxXp"
   },
   "execution_count": null,
   "outputs": []
  },
  {
   "cell_type": "markdown",
   "source": [
    "Write your answer here (double click on cell to edit it)"
   ],
   "metadata": {
    "id": "9l_8pbouqalx"
   }
  },
  {
   "cell_type": "markdown",
   "source": [
    "3. What is the average spike count? We want a single number that is the average spike count over all of the data (every trial and every time bin)"
   ],
   "metadata": {
    "id": "C2_JNxqTUuc1"
   }
  },
  {
   "cell_type": "code",
   "source": [],
   "metadata": {
    "id": "J4MxGwSnUxOu"
   },
   "execution_count": null,
   "outputs": []
  },
  {
   "cell_type": "markdown",
   "source": [
    "Write your answer here (double click on cell to edit it)"
   ],
   "metadata": {
    "id": "riRdS9KLqcGH"
   }
  },
  {
   "cell_type": "markdown",
   "source": [
    "4. Next, we want to average the spike counts over the trials, so we can look at how the average spike count changes over time.\n",
    "\n",
    "Write code to compute the average spike count across trials for every time bin. Store this in a variable called `average_spike_counts`."
   ],
   "metadata": {
    "id": "tN-7gzs_UPBW"
   }
  },
  {
   "cell_type": "code",
   "source": [],
   "metadata": {
    "id": "N-EsSW5mTxc5"
   },
   "execution_count": null,
   "outputs": []
  },
  {
   "cell_type": "markdown",
   "source": [
    "5. Take your result from Q4, but now convert it to units of spikes/second instead of spikes/time bin. Store as a variable called `PSTH` (peri-stimulus time histogram).\n",
    "\n",
    "This will give you an estimate of the average firing rate in spikes per second over time during this task.\n"
   ],
   "metadata": {
    "id": "mma32PWsUXvZ"
   }
  },
  {
   "cell_type": "code",
   "source": [],
   "metadata": {
    "id": "haWqJVk08fcu"
   },
   "execution_count": null,
   "outputs": []
  },
  {
   "cell_type": "markdown",
   "source": [
    "The next cell will plot the PSTH you just computed (we'll cover plotting soon!)"
   ],
   "metadata": {
    "id": "2GpUKDB-Ubho"
   }
  },
  {
   "cell_type": "code",
   "source": [
    "fig, ax = plt.subplots()\n",
    "\n",
    "ax.plot(PSTH)\n",
    "ax.set(xlabel='Time bins',\n",
    "       ylabel = 'Firing rate (spikes/second)')"
   ],
   "metadata": {
    "id": "daLFG5P2VMSq"
   },
   "execution_count": null,
   "outputs": []
  },
  {
   "cell_type": "markdown",
   "source": [
    "6. What is the maximum average firing rate of the neuron? (the max of the PSTH)"
   ],
   "metadata": {
    "id": "mWwly0VhVZHD"
   }
  },
  {
   "cell_type": "code",
   "source": [],
   "metadata": {
    "id": "KTZZoLcdVMaL"
   },
   "execution_count": null,
   "outputs": []
  }
 ]
}