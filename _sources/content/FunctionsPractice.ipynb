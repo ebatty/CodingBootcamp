{
 "nbformat": 4,
 "nbformat_minor": 0,
 "metadata": {
  "colab": {
   "provenance": [],
   "authorship_tag": "ABX9TyOVz0luBkr10iBEl9Rfiqvl"
  },
  "kernelspec": {
   "name": "python3",
   "display_name": "Python 3"
  },
  "language_info": {
   "name": "python"
  }
 },
 "cells": [
  {
   "cell_type": "markdown",
   "source": [
    "1. Write a function `greet_guests` that will greet guests by name. The inputs should be the name and the greeting type. Try to do this using f-strings!\n",
    "\n",
    "For example,\n",
    "\n",
    "`greet_guests('Ella', 'Hello')` should return the string \"Hello, Ella!\"\n",
    "\n",
    "`greet_guests('Mary', 'Hi')` should return the string \"Hi, Mary!\"\n",
    "\n",
    "`greet_guests('Xander', 'Whatsup')` should return the string \"Whatsup, Xander!\"\n",
    "\n"
   ],
   "metadata": {
    "id": "fmY-qjrYUV-Y"
   }
  },
  {
   "cell_type": "code",
   "execution_count": null,
   "metadata": {
    "id": "dkeBs56vUTol"
   },
   "outputs": [],
   "source": []
  },
  {
   "cell_type": "markdown",
   "source": [
    "2. In your function above, make the default value for the greeting type 'Hello'.\n",
    "\n",
    "So, greet_guests('Ella') should return the string \"Hello, Ella!\""
   ],
   "metadata": {
    "id": "G2qBXuPdUzgY"
   }
  },
  {
   "cell_type": "code",
   "source": [],
   "metadata": {
    "id": "n6cKqU4JU_A7"
   },
   "execution_count": null,
   "outputs": []
  },
  {
   "cell_type": "markdown",
   "source": [
    "3. Write a function rescale that takes an array as input and returns a corresponding array of values scaled to lie in the range 0.0 to 1.0.\n",
    "\n",
    "Hint: If L and H are the lowest and highest values in the original array, then the rescaled value of value v should be (v-L) / (H-L).\n",
    "\n",
    "Note: This problem is modified from Software Carpentry CC-BY materials https://swcarpentry.github.io/python-novice-inflammation/08-func.html"
   ],
   "metadata": {
    "id": "-JY7EZbkU_hu"
   }
  },
  {
   "cell_type": "code",
   "source": [
    "import numpy as np\n",
    "\n",
    "input_array = np.array([[3, 5, 1, 2], [6, 7, 5, 1]])\n",
    "\n"
   ],
   "metadata": {
    "id": "Py-XjgLHWbkj"
   },
   "execution_count": 2,
   "outputs": []
  },
  {
   "cell_type": "markdown",
   "source": [
    "(Advanced) 4. We want to create a function that takes in an array, finds the second largest value of the array and returns it. Specifically, we want the second largest of the unique values. For example, using the function on this array a = np.array([100, 100, 50]) should return 50, not 100.\n",
    "\n",
    "\n",
    "\n",
    "\n",
    "\n",
    "\n",
    "First, brainstorm and write out pseudocode. Then write the function."
   ],
   "metadata": {
    "id": "FX1oxYReW-Ih"
   }
  },
  {
   "cell_type": "code",
   "source": [],
   "metadata": {
    "id": "qENsAEkyWg_Y"
   },
   "execution_count": null,
   "outputs": []
  }
 ]
}