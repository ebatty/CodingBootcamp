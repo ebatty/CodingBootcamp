{
 "nbformat": 4,
 "nbformat_minor": 0,
 "metadata": {
  "colab": {
   "provenance": [],
   "authorship_tag": "ABX9TyNXHimHGLirL/zY2lbTAip7"
  },
  "kernelspec": {
   "name": "python3",
   "display_name": "Python 3"
  },
  "language_info": {
   "name": "python"
  }
 },
 "cells": [
  {
   "cell_type": "markdown",
   "source": [
    "# Session 1 Exercises\n",
    "\n",
    "## Your name here"
   ],
   "metadata": {
    "id": "4hDW9ilSTqQ-"
   }
  },
  {
   "cell_type": "code",
   "execution_count": null,
   "metadata": {
    "id": "UBdbFNuw8Oz2"
   },
   "outputs": [],
   "source": []
  },
  {
   "cell_type": "code",
   "source": [],
   "metadata": {
    "id": "h62svp_xSCYe"
   },
   "execution_count": null,
   "outputs": []
  },
  {
   "cell_type": "code",
   "source": [],
   "metadata": {
    "id": "KtN4TgGsSCb4"
   },
   "execution_count": null,
   "outputs": []
  },
  {
   "cell_type": "code",
   "source": [],
   "metadata": {
    "id": "J9flE2gNSCfN"
   },
   "execution_count": null,
   "outputs": []
  },
  {
   "cell_type": "code",
   "source": [],
   "metadata": {
    "id": "fWXMj3f-SCin"
   },
   "execution_count": null,
   "outputs": []
  },
  {
   "cell_type": "markdown",
   "source": [
    "## Working with Spike Data\n",
    "\n",
    "Let's dive into some neuroscience! We have a monkey performing a task where they make repeated reaching movements to the same target. We record from a neuron in the monkey's motor cortex and get spike counts in different time bins for every trial (repeated reach movement).\n",
    "\n",
    "The next cell loads in this spike count data into a variable called `spikes`. The rows are the different trials and the columns are different time bins. Each time bin is 1 milisecond long.\n",
    "\n",
    "Disclaimer: this data is simulated to better suit our purposes"
   ],
   "metadata": {
    "id": "ftiEkGWZ8RYX"
   }
  },
  {
   "cell_type": "code",
   "source": [
    "import numpy as np\n",
    "import matplotlib.pyplot as plt\n",
    "\n",
    "\n",
    "import requests\n",
    "import io\n",
    "\n",
    "r = requests.get('https://osf.io/xr9kc/download')\n",
    "\n",
    "spikes = np.load(io.BytesIO(r.content))\n",
    "\n",
    "\n",
    "dt = 0.001 # in seconds, each time bin is 1 ms"
   ],
   "metadata": {
    "id": "HlGXlRpY8fY_"
   },
   "execution_count": 8,
   "outputs": []
  },
  {
   "cell_type": "markdown",
   "source": [
    "1. How many trials is contained in this data?"
   ],
   "metadata": {
    "id": "rfAUkRRgUCZR"
   }
  },
  {
   "cell_type": "code",
   "source": [],
   "metadata": {
    "id": "Wa6bBM6tXiLW"
   },
   "execution_count": null,
   "outputs": []
  },
  {
   "cell_type": "markdown",
   "source": [
    "2. How many time bins are in this data?"
   ],
   "metadata": {
    "id": "5Jkj5KxgUKWy"
   }
  },
  {
   "cell_type": "code",
   "source": [],
   "metadata": {
    "id": "9gJ0zZeQTxXp"
   },
   "execution_count": null,
   "outputs": []
  },
  {
   "cell_type": "markdown",
   "source": [
    "3. What is the average spike count in a time bin?"
   ],
   "metadata": {
    "id": "C2_JNxqTUuc1"
   }
  },
  {
   "cell_type": "code",
   "source": [],
   "metadata": {
    "id": "J4MxGwSnUxOu"
   },
   "execution_count": null,
   "outputs": []
  },
  {
   "cell_type": "markdown",
   "source": [
    "4. Compute the average spike count per time bin\n",
    "\n",
    "We want to know the average spike count at each time bin (so the average over trials)."
   ],
   "metadata": {
    "id": "tN-7gzs_UPBW"
   }
  },
  {
   "cell_type": "code",
   "source": [],
   "metadata": {
    "id": "N-EsSW5mTxc5"
   },
   "execution_count": null,
   "outputs": []
  },
  {
   "cell_type": "markdown",
   "source": [
    "5. Compute the average spike count per time bin but convert it to units of spikes/second instead of spikes/time bin. Store as a variable called PSTH (peri-stimulus time histogram). This will give you an estimate of the average firing rate in spikes per second over time during this task.\n"
   ],
   "metadata": {
    "id": "mma32PWsUXvZ"
   }
  },
  {
   "cell_type": "code",
   "source": [],
   "metadata": {
    "id": "haWqJVk08fcu"
   },
   "execution_count": null,
   "outputs": []
  },
  {
   "cell_type": "markdown",
   "source": [
    "The next cell will plot the PSTH you just computed (we'll cover plotting soon!)"
   ],
   "metadata": {
    "id": "2GpUKDB-Ubho"
   }
  },
  {
   "cell_type": "code",
   "source": [
    "fig, ax = plt.subplots()\n",
    "\n",
    "ax.plot(PSTH)\n",
    "ax.set(xlabel='Time bins',\n",
    "       ylabel = 'Firing rate (spikes/second)')"
   ],
   "metadata": {
    "id": "daLFG5P2VMSq"
   },
   "execution_count": null,
   "outputs": []
  },
  {
   "cell_type": "markdown",
   "source": [
    "6. What is the maximum average firing rate of the neuron? (the max of the PSTH)"
   ],
   "metadata": {
    "id": "mWwly0VhVZHD"
   }
  },
  {
   "cell_type": "code",
   "source": [],
   "metadata": {
    "id": "KTZZoLcdVMaL"
   },
   "execution_count": null,
   "outputs": []
  },
  {
   "cell_type": "markdown",
   "source": [
    "## Image Manipulation\n",
    "\n",
    "The next cell automatically downloads the image (file name dog.jpg) and loads it in directly as numpy array img (should work in either Google Colab or jupyter notebook locally).\n",
    "\n",
    "Loading in data that exists locally (if you are using a jupyter notebook for example) isn’t as complicated.\n",
    "\n",
    "You could use plt.imread('dog.jpg', format = 'jpg') If you’d like to download the data locally, you can get it from https://osf.io/35azg/."
   ],
   "metadata": {
    "id": "j920q6uI8WGL"
   }
  },
  {
   "cell_type": "code",
   "source": [
    "import requests\n",
    "import io\n",
    "import matplotlib.pyplot as plt\n",
    "\n",
    "r = requests.get('https://osf.io/35azg/download')\n",
    "\n",
    "img = plt.imread(io.BytesIO(r.content), format = 'jpg')"
   ],
   "metadata": {
    "id": "qgdg3F-B8USM"
   },
   "execution_count": 2,
   "outputs": []
  },
  {
   "cell_type": "markdown",
   "source": [
    "We will write some code to display the image (we will cover plotting soon!)."
   ],
   "metadata": {
    "id": "wIjaRdDHSIKi"
   }
  },
  {
   "cell_type": "markdown",
   "source": [
    "1. Print the entry in the third row and second column of the image"
   ],
   "metadata": {
    "id": "Wtu474ZlS_qu"
   }
  },
  {
   "cell_type": "code",
   "source": [],
   "metadata": {
    "id": "rq-yb8FRTF9I"
   },
   "execution_count": null,
   "outputs": []
  },
  {
   "cell_type": "markdown",
   "source": [
    "2. Print the second row of the image"
   ],
   "metadata": {
    "id": "Cz5aNmmwTOj1"
   }
  },
  {
   "cell_type": "code",
   "source": [],
   "metadata": {
    "id": "Vj0_UIiTTQCG"
   },
   "execution_count": null,
   "outputs": []
  },
  {
   "cell_type": "markdown",
   "source": [
    "3. Create a new version of img where the 20 columns on the left and right edge of the image are equal to the minimum of the image."
   ],
   "metadata": {
    "id": "AIlq5D_iSPKq"
   }
  },
  {
   "cell_type": "code",
   "source": [
    "# First let's copy the image so we don't overwrite our original image\n",
    "new_img = img.copy()\n",
    "\n",
    "... # your code here\n",
    "\n",
    "plt.imshow(new_img, cmap = 'gray')"
   ],
   "metadata": {
    "id": "Yg4IOrZWSF5J"
   },
   "execution_count": null,
   "outputs": []
  },
  {
   "cell_type": "markdown",
   "source": [
    "4. Create a new version of the image where the 20 rows on the top and bottom of the image are equal to the maximum of the image."
   ],
   "metadata": {
    "id": "S36Dj6FCSRgx"
   }
  },
  {
   "cell_type": "code",
   "source": [
    "# First let's copy the image so we don't overwrite our original image\n",
    "new_img = img.copy()\n",
    "\n",
    "... # your code here\n",
    "\n",
    "plt.imshow(new_img, cmap = 'gray')"
   ],
   "metadata": {
    "id": "eINg4IYmSTdk"
   },
   "execution_count": null,
   "outputs": []
  },
  {
   "cell_type": "markdown",
   "source": [
    "5. Create a new version of the image where every 3rd column is set equal to the average value of the image"
   ],
   "metadata": {
    "id": "r_fFXoN6SU6B"
   }
  },
  {
   "cell_type": "code",
   "source": [
    "# First let's copy the image so we don't overwrite our original image\n",
    "new_img = img.copy()\n",
    "\n",
    "... # your code here\n",
    "\n",
    "plt.imshow(new_img, cmap = 'gray')"
   ],
   "metadata": {
    "id": "TY3uJOn-SUVO"
   },
   "execution_count": null,
   "outputs": []
  }
 ]
}