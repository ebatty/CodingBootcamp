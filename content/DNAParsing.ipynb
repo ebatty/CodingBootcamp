{
  "nbformat": 4,
  "nbformat_minor": 0,
  "metadata": {
    "colab": {
      "provenance": [],
      "authorship_tag": "ABX9TyO/tmXaXRDRgLpz085YlVRn"
    },
    "kernelspec": {
      "name": "python3",
      "display_name": "Python 3"
    },
    "language_info": {
      "name": "python"
    }
  },
  "cells": [
    {
      "cell_type": "markdown",
      "source": [
        "## DNA Parsing"
      ],
      "metadata": {
        "id": "WbVGOc1gpjPe"
      }
    },
    {
      "cell_type": "code",
      "execution_count": null,
      "metadata": {
        "id": "GeQGbd6gOqO9"
      },
      "outputs": [],
      "source": [
        "import numpy as np\n",
        "import matplotlib.pyplot as plt"
      ]
    },
    {
      "cell_type": "markdown",
      "source": [
        "We will be parsing a real DNA sequence to translate it into the corresponding protein sequence.\n",
        "\n",
        "DNA consists of a sequence of nucleotides (A, G, T, or C).  In the genetic code, each group of three consecutive nucleotides form a codon that translates to a single amino acid. There are a small number of common amino acids - we can use a look-up table to pair each codon with the respective amino acid. We also have stop codons that signify that the DNA should stop being translated there.\n",
        "\n",
        "In this way, we can work through a DNA sequence, taking each group of three nucleotides (the first three, then the next three, and so on) and translating them to the corresponding amino acid. The resulting sequence of amino acids constitutes the protein that the DNA sequence codes.\n",
        "\n",
        "We are getting our data from a public repository of DNA sequences from NCBI.  We will be looking at a DNA sequence from a Golden Retriever. The data can be found here.\n",
        "\n",
        "\n",
        "The cell below assigns the data to variables. You do not need to do anything.\n",
        "\n",
        "`dna_sequence` contains the DNA sequence.\n",
        "\n",
        "`dna_codons` stores the pairings from triplets/codons to amino acids in a dictionary. The triplets are the keys and the amino acids are the values.\n",
        "\n",
        "`true_translation` contains the translated protein (from the NCBI website, under CDS/translation)"
      ],
      "metadata": {
        "id": "sRKkPsyUqJzw"
      }
    },
    {
      "cell_type": "code",
      "source": [
        "dna_sequence = 'ATGAGCGAGTCGAGCTCGAAGTCCAGCCAGCCTTTGGCCTCCAAGCAGGAAAAGGACGGCACTGAGAAGCGAGGGCGGGGCCGGCCGCGCAAGCAGCCTCCGAAGGAACCCAGTGAAGTGCCAACACCTAAGAGACCTCGGGGCCGACCAAAGGGGAGCAAAAACAAGGGTGCTGCCAAGACCCGGAAAACTACCACAACTCCAGGGAGGAAACCGAGGGGCAGACCCAAAAAACTGGAGAAGGAGGAAGAAGAGGGCATCTCGCAGGAGTCCTCCGAAGAGGAGCAGTGA'\n",
        "\n",
        "dna_codons = {'TTT' : 'F', 'CTT' : 'L', 'ATT' : 'I', 'GTT' : 'V',\n",
        "           'TTC' : 'F', 'CTC' : 'L', 'ATC' : 'I', 'GTC' : 'V',\n",
        "           'TTA' : 'L', 'CTA' : 'L', 'ATA' : 'I', 'GTA' : 'V',\n",
        "           'TTG' : 'L', 'CTG' : 'L', 'ATG' : 'M', 'GTG' : 'V',\n",
        "           'TCT' : 'S', 'CCT' : 'P', 'ACT' : 'T', 'GCT' : 'A',\n",
        "           'TCC' : 'S', 'CCC' : 'P', 'ACC' : 'T', 'GCC' : 'A',\n",
        "           'TCA' : 'S', 'CCA' : 'P', 'ACA' : 'T', 'GCA' : 'A',\n",
        "           'TCG' : 'S', 'CCG' : 'P', 'ACG' : 'T', 'GCG' : 'A',\n",
        "           'TAT' : 'Y', 'CAT' : 'H', 'AAT' : 'N', 'GAT' : 'D',\n",
        "           'TAC' : 'Y', 'CAC' : 'H', 'AAC' : 'N', 'GAC' : 'D',\n",
        "           'TAA' : 'STOP', 'CAA' : 'Q', 'AAA' : 'K', 'GAA' : 'E',\n",
        "           'TAG' : 'STOP', 'CAG' : 'Q', 'AAG' : 'K', 'GAG' : 'E',\n",
        "           'TGT' : 'C', 'CGT' : 'R', 'AGT' : 'S', 'GGT' : 'G',\n",
        "           'TGC' : 'C', 'CGC' : 'R', 'AGC' : 'S', 'GGC' : 'G',\n",
        "           'TGA' : 'STOP', 'CGA' : 'R', 'AGA' : 'R', 'GGA' : 'G',\n",
        "           'TGG' : 'W', 'CGG' : 'R', 'AGG' : 'R', 'GGG' : 'G'\n",
        "           }\n",
        "\n",
        "true_translation = 'MSESSSKSSQPLASKQEKDGTEKRGRGRPRKQPPKEPSEVPTPK\\\n",
        "RPRGRPKGSKNKGAAKTRKTTTTPGRKPRGRPKKLEKEEEEGISQESSEEEQ'"
      ],
      "metadata": {
        "id": "rduPr7Erp-Qw"
      },
      "execution_count": null,
      "outputs": []
    },
    {
      "cell_type": "code",
      "source": [],
      "metadata": {
        "id": "48JnhRswrS0f"
      },
      "execution_count": null,
      "outputs": []
    },
    {
      "cell_type": "markdown",
      "source": [
        "1) Index into `dna_sequence` to get the first three nucleotides (ATG). Store this as a variable called `codon`\n",
        "\n"
      ],
      "metadata": {
        "id": "Fdla19ByKjXO"
      }
    },
    {
      "cell_type": "code",
      "source": [],
      "metadata": {
        "id": "Wx9j5BaLKq4f"
      },
      "execution_count": null,
      "outputs": []
    },
    {
      "cell_type": "markdown",
      "source": [
        "2) Use the `dna_codons` dictionary to translate this codon to the corresponding amino acid. Store this as a variable called `protein`.\n",
        "\n",
        "Spoilers: you should get the amino acid S"
      ],
      "metadata": {
        "id": "4YMluS7FKrAt"
      }
    },
    {
      "cell_type": "code",
      "source": [],
      "metadata": {
        "id": "WwfmJp9QK58X"
      },
      "execution_count": null,
      "outputs": []
    },
    {
      "cell_type": "markdown",
      "source": [
        "3) Index into `dna_sequence` to get the second codon (the next three nucleotides AGC). Translate this to an amino acid and add it to the `protein` string you created in 2.  \n",
        "\n",
        "Spoilers: `protein` should now be \"SS\""
      ],
      "metadata": {
        "id": "WVdGhKtsOaB-"
      }
    },
    {
      "cell_type": "code",
      "source": [],
      "metadata": {
        "id": "g6wRZzR6OvTq"
      },
      "execution_count": null,
      "outputs": []
    },
    {
      "cell_type": "markdown",
      "source": [
        "4) Get the length of `dna_sequence` (how many letters are there in this string)"
      ],
      "metadata": {
        "id": "hCzTv_PQL0k0"
      }
    },
    {
      "cell_type": "code",
      "source": [],
      "metadata": {
        "id": "l-qN9tj5L5yq"
      },
      "execution_count": null,
      "outputs": []
    },
    {
      "cell_type": "markdown",
      "source": [
        "5) Create a for loop within which you grab and print each codon. So, on the first iteration of the for loop, your code should print the first three letters in `dna_sequence` (ATG). On the next iteration, you should print the next three letters (AGC), and so on."
      ],
      "metadata": {
        "id": "iscW-xFUK6Fe"
      }
    },
    {
      "cell_type": "code",
      "source": [
        "# @markdown Click here to see hint 1\n",
        "\n",
        "\"\"\"\n",
        "Think through indexing into subsequent\n",
        "codons.\n",
        "\n",
        "The first one will be dna_sequence[0:3].\n",
        "Then dna_sequence[3:6].\n",
        "Then dna_sequence[6:9].\n",
        "And so on.\n",
        "\n",
        "How could you use a for loop here?\n",
        "\n",
        "\"\"\n"
      ],
      "metadata": {
        "cellView": "form",
        "id": "S8xXFCvMMBle"
      },
      "execution_count": null,
      "outputs": []
    },
    {
      "cell_type": "code",
      "source": [
        "# @markdown Click here to see hint 2\n",
        "\n",
        "\"\"\"\n",
        "Let's say we loop through variable ind.\n",
        "\n",
        "If on the first loop, ind=0, we can\n",
        "grab the right codon with\n",
        "dna_sequence[ind:ind+3].\n",
        "\n",
        "What would we want the next value of\n",
        "ind to be?\n",
        "\"\"\""
      ],
      "metadata": {
        "cellView": "form",
        "id": "tZikwtGwM6yg"
      },
      "execution_count": null,
      "outputs": []
    },
    {
      "cell_type": "code",
      "source": [
        "# @markdown Click here to see hint 3\n",
        "\n",
        "\"\"\"\n",
        "for ind in range(0, len(dna_sequence), 3):\n",
        "  rest of code here\n",
        "\n",
        "will give you ind=0, ind=3, ind=6, ...\n",
        "ind skips every 3 numbers until\n",
        "it reaches the length of  the sequence.\n",
        "\n",
        "We can then use dna_sequence[ind:ind+3]\n",
        "within the for loop to grab the right\n",
        "codon\n",
        "\"\"\"\n"
      ],
      "metadata": {
        "cellView": "form",
        "id": "fkX8VKPSLdTh"
      },
      "execution_count": null,
      "outputs": []
    },
    {
      "cell_type": "code",
      "source": [],
      "metadata": {
        "id": "xKgkGNXMNpDg"
      },
      "execution_count": null,
      "outputs": []
    },
    {
      "cell_type": "markdown",
      "source": [
        "6) Within your for loop, translate each codon to the corresponding amino acid. How can we set things up so we get `protein` at the end as a string of all the translated amino acids?"
      ],
      "metadata": {
        "id": "KBCEUitUNpWJ"
      }
    },
    {
      "cell_type": "code",
      "source": [
        "# @markdown Click here for hint\n",
        "\n",
        "\"\"\"\n",
        "Initialize `protein` as an empty string\n",
        "with ''\n",
        "\"\"\""
      ],
      "metadata": {
        "cellView": "form",
        "id": "fDZE21cdNxth"
      },
      "execution_count": null,
      "outputs": []
    },
    {
      "cell_type": "code",
      "source": [],
      "metadata": {
        "id": "SGIwdjLrN2ya"
      },
      "execution_count": null,
      "outputs": []
    },
    {
      "cell_type": "markdown",
      "source": [
        "(Advanced) 7) When we hit a stop codon (the amino acid is 'STOP'), we want to stop translating. Add this to the code above.\n",
        "\n",
        "If our sequence in the example above had been CCCCATAGTGGGAGCTAG, we would get'PHSGRSTOP' since TAG is a stop codon. We do not want to include the 'STOP'"
      ],
      "metadata": {
        "id": "IlQA-ZKDqrsC"
      }
    },
    {
      "cell_type": "code",
      "source": [],
      "metadata": {
        "id": "wzuVX3gDnnsK"
      },
      "execution_count": null,
      "outputs": []
    }
  ]
}