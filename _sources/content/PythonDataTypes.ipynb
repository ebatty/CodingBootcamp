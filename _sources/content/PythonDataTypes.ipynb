{
 "nbformat": 4,
 "nbformat_minor": 0,
 "metadata": {
  "colab": {
   "provenance": [],
   "toc_visible": true,
   "authorship_tag": "ABX9TyNdcIM7GYO/edQPwOiGRauN"
  },
  "kernelspec": {
   "name": "python3",
   "display_name": "Python 3"
  },
  "language_info": {
   "name": "python"
  }
 },
 "cells": [
  {
   "cell_type": "markdown",
   "source": [
    "# Python Data Types"
   ],
   "metadata": {
    "id": "W8crM_qN3kNH"
   }
  },
  {
   "cell_type": "markdown",
   "source": [
    "## Lists"
   ],
   "metadata": {
    "id": "spaWxKW6shcj"
   }
  },
  {
   "cell_type": "markdown",
   "source": [
    "###  What is a list?\n",
    "Sequence of values of any type, mutable"
   ],
   "metadata": {
    "id": "oNBuxFt3sr8j"
   }
  },
  {
   "cell_type": "code",
   "source": [
    "x = [0, 1, 7]"
   ],
   "metadata": {
    "id": "lc5AQAzTsueA"
   },
   "execution_count": 1,
   "outputs": []
  },
  {
   "cell_type": "code",
   "source": [
    "x + 1"
   ],
   "metadata": {
    "colab": {
     "base_uri": "https://localhost:8080/",
     "height": 176
    },
    "id": "R5e-6j9Lszp8",
    "outputId": "efd24aad-66ea-4ff0-d47b-ad74da62e385"
   },
   "execution_count": 6,
   "outputs": [
    {
     "output_type": "error",
     "ename": "TypeError",
     "evalue": "ignored",
     "traceback": [
      "\u001b[0;31m---------------------------------------------------------------------------\u001b[0m",
      "\u001b[0;31mTypeError\u001b[0m                                 Traceback (most recent call last)",
      "\u001b[0;32m<ipython-input-6-eaf7b6991020>\u001b[0m in \u001b[0;36m<cell line: 1>\u001b[0;34m()\u001b[0m\n\u001b[0;32m----> 1\u001b[0;31m \u001b[0mx\u001b[0m \u001b[0;34m+\u001b[0m \u001b[0;36m1\u001b[0m\u001b[0;34m\u001b[0m\u001b[0;34m\u001b[0m\u001b[0m\n\u001b[0m",
      "\u001b[0;31mTypeError\u001b[0m: can only concatenate list (not \"int\") to list"
     ]
    }
   ]
  },
  {
   "cell_type": "markdown",
   "source": [
    "## Strings"
   ],
   "metadata": {
    "id": "ycbQG9FYsW2T"
   }
  },
  {
   "cell_type": "code",
   "source": [
    "my_string = 'Brains are cool'\n",
    "type(my_string)"
   ],
   "metadata": {
    "colab": {
     "base_uri": "https://localhost:8080/"
    },
    "id": "xFlM5FXnTitN",
    "outputId": "dd66af7d-17ba-4c29-faeb-250798a575bc"
   },
   "execution_count": 9,
   "outputs": [
    {
     "output_type": "execute_result",
     "data": {
      "text/plain": [
       "str"
      ]
     },
     "metadata": {},
     "execution_count": 9
    }
   ]
  },
  {
   "cell_type": "markdown",
   "source": [
    "Length of a string"
   ],
   "metadata": {
    "id": "ZPHCGlEhtMpf"
   }
  },
  {
   "cell_type": "code",
   "source": [
    "len(my_string)"
   ],
   "metadata": {
    "colab": {
     "base_uri": "https://localhost:8080/"
    },
    "id": "vIlMQCbntMCh",
    "outputId": "a5d5ff2e-5196-469d-c268-3cd3eac476cc"
   },
   "execution_count": 10,
   "outputs": [
    {
     "output_type": "execute_result",
     "data": {
      "text/plain": [
       "15"
      ]
     },
     "metadata": {},
     "execution_count": 10
    }
   ]
  },
  {
   "cell_type": "markdown",
   "source": [
    "### Strings are sequences and can be indexed"
   ],
   "metadata": {
    "id": "FUL1sd7eP_1u"
   }
  },
  {
   "cell_type": "code",
   "source": [
    "my_string[:2]"
   ],
   "metadata": {
    "colab": {
     "base_uri": "https://localhost:8080/",
     "height": 35
    },
    "id": "CmyXNvlkTiS1",
    "outputId": "c7a2ebb7-1cc4-472b-8896-38dd58759e0a"
   },
   "execution_count": null,
   "outputs": [
    {
     "output_type": "execute_result",
     "data": {
      "application/vnd.google.colaboratory.intrinsic+json": {
       "type": "string"
      },
      "text/plain": [
       "'Br'"
      ]
     },
     "metadata": {},
     "execution_count": 4
    }
   ]
  },
  {
   "cell_type": "code",
   "source": [
    "my_string[-3:]"
   ],
   "metadata": {
    "colab": {
     "base_uri": "https://localhost:8080/",
     "height": 35
    },
    "id": "L-ANvfkwT0Bu",
    "outputId": "e3b2d9b8-af2d-4e4a-8461-0848ba509ee7"
   },
   "execution_count": null,
   "outputs": [
    {
     "output_type": "execute_result",
     "data": {
      "application/vnd.google.colaboratory.intrinsic+json": {
       "type": "string"
      },
      "text/plain": [
       "'ool'"
      ]
     },
     "metadata": {},
     "execution_count": 5
    }
   ]
  },
  {
   "cell_type": "code",
   "source": [
    "'are' in my_string"
   ],
   "metadata": {
    "colab": {
     "base_uri": "https://localhost:8080/"
    },
    "id": "varX3DhyT0HC",
    "outputId": "2abbf036-29ad-4fe5-8488-949000600b21"
   },
   "execution_count": null,
   "outputs": [
    {
     "output_type": "execute_result",
     "data": {
      "text/plain": [
       "True"
      ]
     },
     "metadata": {},
     "execution_count": 6
    }
   ]
  },
  {
   "cell_type": "code",
   "source": [
    "for char in my_string:\n",
    "  print(char)"
   ],
   "metadata": {
    "colab": {
     "base_uri": "https://localhost:8080/"
    },
    "id": "ua56mZMuT5P-",
    "outputId": "663e448e-cdc8-492b-e218-b11bdc98072a"
   },
   "execution_count": null,
   "outputs": [
    {
     "output_type": "stream",
     "name": "stdout",
     "text": [
      "B\n",
      "r\n",
      "a\n",
      "i\n",
      "n\n",
      "s\n",
      " \n",
      "a\n",
      "r\n",
      "e\n",
      " \n",
      "c\n",
      "o\n",
      "o\n",
      "l\n"
     ]
    }
   ]
  },
  {
   "cell_type": "markdown",
   "source": [
    "### String contatenation"
   ],
   "metadata": {
    "id": "DDuzUa7etUWb"
   }
  },
  {
   "cell_type": "code",
   "source": [
    "'Hello' + ' class'"
   ],
   "metadata": {
    "colab": {
     "base_uri": "https://localhost:8080/",
     "height": 35
    },
    "id": "ZVXtjxk-UE8n",
    "outputId": "db14a37f-c7bf-46ec-912e-fb5101ada3bf"
   },
   "execution_count": null,
   "outputs": [
    {
     "output_type": "execute_result",
     "data": {
      "application/vnd.google.colaboratory.intrinsic+json": {
       "type": "string"
      },
      "text/plain": [
       "'Hello class'"
      ]
     },
     "metadata": {},
     "execution_count": 11
    }
   ]
  },
  {
   "cell_type": "code",
   "source": [
    "8 + 12"
   ],
   "metadata": {
    "colab": {
     "base_uri": "https://localhost:8080/"
    },
    "id": "-7gdYAJATf8m",
    "outputId": "2fc4281e-f0bb-483f-9d4f-675035519c1a"
   },
   "execution_count": null,
   "outputs": [
    {
     "output_type": "execute_result",
     "data": {
      "text/plain": [
       "20"
      ]
     },
     "metadata": {},
     "execution_count": 9
    }
   ]
  },
  {
   "cell_type": "code",
   "source": [
    "[0, 3, 1] + [4, 6]"
   ],
   "metadata": {
    "colab": {
     "base_uri": "https://localhost:8080/"
    },
    "id": "oroiayNTUE__",
    "outputId": "19992ea4-9e03-4c26-8aab-23fdf24a9cb0"
   },
   "execution_count": null,
   "outputs": [
    {
     "output_type": "execute_result",
     "data": {
      "text/plain": [
       "[0, 3, 1, 4, 6]"
      ]
     },
     "metadata": {},
     "execution_count": 12
    }
   ]
  },
  {
   "cell_type": "markdown",
   "source": [
    "### In-built methods"
   ],
   "metadata": {
    "id": "q7SGS2RuQI1P"
   }
  },
  {
   "cell_type": "code",
   "source": [
    "help(str)"
   ],
   "metadata": {
    "id": "nIqg2ldhV7RQ"
   },
   "execution_count": null,
   "outputs": []
  },
  {
   "cell_type": "markdown",
   "source": [
    "### Mixing strings and other data types/variables"
   ],
   "metadata": {
    "id": "hL-jYbTmQOMm"
   }
  },
  {
   "cell_type": "code",
   "source": [
    "my_dog = 'Leo'\n",
    "\n",
    "'My dog is ' + my_dog"
   ],
   "metadata": {
    "colab": {
     "base_uri": "https://localhost:8080/",
     "height": 35
    },
    "id": "c1lcjCp5TQ46",
    "outputId": "e7b00fb4-05cd-4a67-ec25-dd8ddfa2dd9b"
   },
   "execution_count": null,
   "outputs": [
    {
     "output_type": "execute_result",
     "data": {
      "application/vnd.google.colaboratory.intrinsic+json": {
       "type": "string"
      },
      "text/plain": [
       "'My dog is Leo'"
      ]
     },
     "metadata": {},
     "execution_count": 15
    }
   ]
  },
  {
   "cell_type": "code",
   "source": [
    "my_dogs_age = 1\n",
    "\n",
    "'My dog is ' + str(my_dogs_age) + ' years old'"
   ],
   "metadata": {
    "colab": {
     "base_uri": "https://localhost:8080/",
     "height": 35
    },
    "id": "uilUeyzPUpdS",
    "outputId": "9ce99b0b-3059-40c0-fc16-d060982564f0"
   },
   "execution_count": null,
   "outputs": [
    {
     "output_type": "execute_result",
     "data": {
      "application/vnd.google.colaboratory.intrinsic+json": {
       "type": "string"
      },
      "text/plain": [
       "'My dog is 1 years old'"
      ]
     },
     "metadata": {},
     "execution_count": 18
    }
   ]
  },
  {
   "cell_type": "code",
   "source": [
    "f'My dog is {my_dogs_age} years old'"
   ],
   "metadata": {
    "colab": {
     "base_uri": "https://localhost:8080/",
     "height": 35
    },
    "id": "WlRuSr5FUtcz",
    "outputId": "d2d78489-3e65-4bba-b0d5-48b3df988aa6"
   },
   "execution_count": null,
   "outputs": [
    {
     "output_type": "execute_result",
     "data": {
      "application/vnd.google.colaboratory.intrinsic+json": {
       "type": "string"
      },
      "text/plain": [
       "'My dog is 1 years old'"
      ]
     },
     "metadata": {},
     "execution_count": 19
    }
   ]
  },
  {
   "cell_type": "markdown",
   "source": [
    "## Dictionaries\n",
    "\n",
    "Dictionaries are unordered pairs of keys and values."
   ],
   "metadata": {
    "id": "A568CQkZtadp"
   }
  },
  {
   "cell_type": "code",
   "source": [
    "my_dict = {'Anna': 25, 'Brian': 77}\n",
    "\n",
    "my_dict['Anna']"
   ],
   "metadata": {
    "colab": {
     "base_uri": "https://localhost:8080/"
    },
    "id": "xuFcpYLntb1N",
    "outputId": "f2b54f7f-4bcf-4e28-8af1-3410d719725b"
   },
   "execution_count": 11,
   "outputs": [
    {
     "output_type": "execute_result",
     "data": {
      "text/plain": [
       "25"
      ]
     },
     "metadata": {},
     "execution_count": 11
    }
   ]
  },
  {
   "cell_type": "code",
   "source": [
    "my_dict.keys()"
   ],
   "metadata": {
    "colab": {
     "base_uri": "https://localhost:8080/"
    },
    "id": "jBwTp-TfthMy",
    "outputId": "a961b20b-a105-4d30-8490-6d008a1c0005"
   },
   "execution_count": 12,
   "outputs": [
    {
     "output_type": "execute_result",
     "data": {
      "text/plain": [
       "dict_keys(['Anna', 'Brian'])"
      ]
     },
     "metadata": {},
     "execution_count": 12
    }
   ]
  },
  {
   "cell_type": "code",
   "source": [
    "my_dict.values()"
   ],
   "metadata": {
    "colab": {
     "base_uri": "https://localhost:8080/"
    },
    "id": "aPE-Cg0XtiqI",
    "outputId": "a80c9beb-5c57-4a62-dbe4-dce66b09ad75"
   },
   "execution_count": 13,
   "outputs": [
    {
     "output_type": "execute_result",
     "data": {
      "text/plain": [
       "dict_values([25, 77])"
      ]
     },
     "metadata": {},
     "execution_count": 13
    }
   ]
  },
  {
   "cell_type": "markdown",
   "source": [
    "Dictionary keys can be any immutable data (integers, floats, strings or Booleans). Dictionary values can be pretty much any data type."
   ],
   "metadata": {
    "id": "DwVbLqMztmXh"
   }
  },
  {
   "cell_type": "code",
   "source": [
    "import numpy as np\n",
    "\n",
    "x = {5:3, True: 6, 'Hello': 6}\n",
    "\n",
    "x[5]"
   ],
   "metadata": {
    "colab": {
     "base_uri": "https://localhost:8080/"
    },
    "id": "KbZ44_71tj0p",
    "outputId": "94a1c082-d3af-4cc9-bdc4-60cf6a9a075c"
   },
   "execution_count": 15,
   "outputs": [
    {
     "output_type": "execute_result",
     "data": {
      "text/plain": [
       "3"
      ]
     },
     "metadata": {},
     "execution_count": 15
    }
   ]
  },
  {
   "cell_type": "markdown",
   "source": [
    "Unordered so no indexing"
   ],
   "metadata": {
    "id": "Pb14MuFGtyxk"
   }
  },
  {
   "cell_type": "code",
   "source": [
    "my_dict[0]"
   ],
   "metadata": {
    "colab": {
     "base_uri": "https://localhost:8080/",
     "height": 176
    },
    "id": "JFIBVQ-8tnvu",
    "outputId": "5e459c49-9c6d-421f-f9e0-3216ae220a24"
   },
   "execution_count": 16,
   "outputs": [
    {
     "output_type": "error",
     "ename": "KeyError",
     "evalue": "ignored",
     "traceback": [
      "\u001b[0;31m---------------------------------------------------------------------------\u001b[0m",
      "\u001b[0;31mKeyError\u001b[0m                                  Traceback (most recent call last)",
      "\u001b[0;32m<ipython-input-16-2e042f7087f7>\u001b[0m in \u001b[0;36m<cell line: 1>\u001b[0;34m()\u001b[0m\n\u001b[0;32m----> 1\u001b[0;31m \u001b[0mmy_dict\u001b[0m\u001b[0;34m[\u001b[0m\u001b[0;36m0\u001b[0m\u001b[0;34m]\u001b[0m\u001b[0;34m\u001b[0m\u001b[0;34m\u001b[0m\u001b[0m\n\u001b[0m",
      "\u001b[0;31mKeyError\u001b[0m: 0"
     ]
    }
   ]
  },
  {
   "cell_type": "code",
   "source": [],
   "metadata": {
    "id": "DAgb0wuetzxm"
   },
   "execution_count": null,
   "outputs": []
  }
 ]
}