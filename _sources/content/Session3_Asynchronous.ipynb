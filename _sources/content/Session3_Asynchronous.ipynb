{
 "nbformat": 4,
 "nbformat_minor": 0,
 "metadata": {
  "colab": {
   "provenance": [],
   "authorship_tag": "ABX9TyO1QjCWBVmj8lQaFUhjKu4k"
  },
  "kernelspec": {
   "name": "python3",
   "display_name": "Python 3"
  },
  "language_info": {
   "name": "python"
  }
 },
 "cells": [
  {
   "cell_type": "markdown",
   "source": [
    "# Session 3 Asynchronous Version\n",
    "\n",
    "Hello! This page is designed for SURFIN fellows who were unable to make the live session of the coding bootcamp on 10/12. It'll take you through the concepts we learned and exercises we did.\n",
    "\n",
    "There are 3 help sessions a week on zoom (see emails/slack for zoom link):\n",
    "\n",
    "*   Mondays at 6 pm EST\n",
    "*   Tuesdays at 9 am EST\n",
    "*   Thursdays at 1 pm EST\n",
    "\n",
    "\n",
    "\n",
    "\n",
    "\n",
    "\n",
    "\n",
    "We highly recommend dropping by one of these help sessions to work through the exercises or clarify concepts if you miss a live session! You don't need specific questions to show up - you can just come and work through content in the zoom room so you can ask questions as you go.\n",
    "\n",
    "Before proceeding, please make sure you've watch the two videos students were expected to watch ahead of the live session:\n",
    "\n",
    "1. [If Statements](https://ebatty.github.io/CodingBootcamp/content/IfStatements.html)\n",
    "2. [For Loops](https://ebatty.github.io/CodingBootcamp/content/ForLoops.html)\n",
    "\n"
   ],
   "metadata": {
    "id": "XUD_rsmICrtq"
   }
  },
  {
   "cell_type": "markdown",
   "source": [
    "## Section 1: Focus on if statements/for loops\n",
    "\n",
    "First, please watch the first 8 minutes of our recorded live session.\n",
    "\n",
    "[Click here for recording](https://us06web.zoom.us/rec/share/RebFeb8y0cOttMUzY8Fyg18a1j2BGXcBnbc8Ng7Dl0PF3txjmbVa46_np5hq_TxD.sTyS1pOmfIhOycVF)\n",
    "\n",
    "Please check email/slack for the passcode for the recording.\n"
   ],
   "metadata": {
    "id": "udBM_qHIDSad"
   }
  },
  {
   "cell_type": "markdown",
   "source": [
    "### Exercise 1\n",
    "\n",
    "Try out Section 1 of the [Session 3 Exercises](https://ebatty.github.io/CodingBootcamp/content/Session3_Exercises.html). Remember to come to a help session to work through it if you get stuck!"
   ],
   "metadata": {
    "id": "txGPXEu3WIDh"
   }
  },
  {
   "cell_type": "markdown",
   "source": [
    "## Section 2: Using for loops in data analysis\n",
    "\n",
    "Next, watch from 9:00 to the end of the recording from the live session:\n",
    "\n",
    "[Click here for recording](https://us06web.zoom.us/rec/share/RebFeb8y0cOttMUzY8Fyg18a1j2BGXcBnbc8Ng7Dl0PF3txjmbVa46_np5hq_TxD.sTyS1pOmfIhOycVF)\n",
    "\n",
    "\n",
    "Please check email/slack for the passcode for the recording."
   ],
   "metadata": {
    "id": "3tFo9ngSD6WH"
   }
  },
  {
   "cell_type": "markdown",
   "source": [
    "### Exercise 2\n",
    "\n",
    "Try out Section 2 of the [Session 3 Exercises](https://ebatty.github.io/CodingBootcamp/content/Session3_Exercises.html). Remember to come to a help session to work through it if you get stuck!"
   ],
   "metadata": {
    "id": "TJQeCccnEBJF"
   }
  }
 ]
}