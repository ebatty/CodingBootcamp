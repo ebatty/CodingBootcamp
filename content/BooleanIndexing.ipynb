{
  "nbformat": 4,
  "nbformat_minor": 0,
  "metadata": {
    "colab": {
      "provenance": [],
      "authorship_tag": "ABX9TyM0u5QxE7FpvTttBv7q/kGF"
    },
    "kernelspec": {
      "name": "python3",
      "display_name": "Python 3"
    },
    "language_info": {
      "name": "python"
    }
  },
  "cells": [
    {
      "cell_type": "markdown",
      "source": [
        "# Boolean Indexing\n",
        "\n"
      ],
      "metadata": {
        "id": "bbDDf_NWnFCt"
      }
    },
    {
      "cell_type": "code",
      "execution_count": 1,
      "metadata": {
        "id": "SOWxeODinEUv"
      },
      "outputs": [],
      "source": [
        "import numpy as np"
      ]
    },
    {
      "cell_type": "markdown",
      "source": [
        "First, we'll create an array that we'll be indexing."
      ],
      "metadata": {
        "id": "ZAOKoJ3dmxMM"
      }
    },
    {
      "cell_type": "code",
      "source": [
        "x = np.array([[1, 0, 9], [3, 4, 1], [2, 4, 1], [3, 10, 1]])\n",
        "print(x)"
      ],
      "metadata": {
        "id": "hIw3U4WCmPHL",
        "outputId": "c00f9f7c-a1dd-4120-da03-70f924dee104",
        "colab": {
          "base_uri": "https://localhost:8080/"
        }
      },
      "execution_count": 9,
      "outputs": [
        {
          "output_type": "stream",
          "name": "stdout",
          "text": [
            "[[ 1  0  9]\n",
            " [ 3  4  1]\n",
            " [ 2  4  1]\n",
            " [ 3 10  1]]\n"
          ]
        }
      ]
    },
    {
      "cell_type": "markdown",
      "source": [
        "Now, let's grab all values greater than 5. First, we create a Boolean array that has True when the corresponding entry in x is greater than 5, False otherwise."
      ],
      "metadata": {
        "id": "srlALJOam3Fe"
      }
    },
    {
      "cell_type": "code",
      "source": [
        "boolean_array = x > 5\n",
        "\n",
        "print(boolean_array)"
      ],
      "metadata": {
        "id": "OWBgEcVJm2cl",
        "outputId": "65b7db11-d0f2-40e1-f440-779d13c32de1",
        "colab": {
          "base_uri": "https://localhost:8080/"
        }
      },
      "execution_count": 8,
      "outputs": [
        {
          "output_type": "stream",
          "name": "stdout",
          "text": [
            "[[False False  True]\n",
            " [False False False]\n",
            " [False False False]\n",
            " [False  True False]]\n"
          ]
        }
      ]
    },
    {
      "cell_type": "markdown",
      "source": [
        "Next, we can index into x using that array and we get back all the entries in x where the corresponding entry in the boolean array is True"
      ],
      "metadata": {
        "id": "OboOWCN0nJGf"
      }
    },
    {
      "cell_type": "code",
      "source": [
        "x[boolean_array]"
      ],
      "metadata": {
        "id": "o7447G79nEHV",
        "outputId": "f827e015-9e6c-474a-b120-0ff7f0203be5",
        "colab": {
          "base_uri": "https://localhost:8080/"
        }
      },
      "execution_count": 10,
      "outputs": [
        {
          "output_type": "execute_result",
          "data": {
            "text/plain": [
              "array([ 9, 10])"
            ]
          },
          "metadata": {},
          "execution_count": 10
        }
      ]
    },
    {
      "cell_type": "markdown",
      "source": [
        "Note that we lose any structure in terms of where those entries occurred"
      ],
      "metadata": {
        "id": "iCdJOXcLnQoP"
      }
    },
    {
      "cell_type": "markdown",
      "source": [
        "We can also use Boolean indexing to get specific rows if we have a Boolean array that is the length of the number of rows that consists of Trues and Falses.\n",
        "\n",
        "Let's get the rows in x where the mean of the row is over 3.\n",
        "\n",
        "First, we can get the mean per row, then we can compare to 3 to get a boolean array."
      ],
      "metadata": {
        "id": "ACj5vTk6nVWz"
      }
    },
    {
      "cell_type": "code",
      "source": [
        "mean_per_row = np.mean(x, axis=1)\n",
        "\n",
        "boolean_array = mean_per_row > 3\n",
        "\n",
        "print(boolean_array)"
      ],
      "metadata": {
        "id": "vtG00RgynFSb",
        "outputId": "ee2d03d7-ab14-4f6b-bbe1-8dd395a24699",
        "colab": {
          "base_uri": "https://localhost:8080/"
        }
      },
      "execution_count": 13,
      "outputs": [
        {
          "output_type": "stream",
          "name": "stdout",
          "text": [
            "[ True False False  True]\n"
          ]
        }
      ]
    },
    {
      "cell_type": "markdown",
      "source": [
        "Now we can use that to index into the rows."
      ],
      "metadata": {
        "id": "xzgc0MPenvhr"
      }
    },
    {
      "cell_type": "code",
      "source": [
        "x[boolean_array, :]"
      ],
      "metadata": {
        "id": "W1d_aSw8nvQG",
        "outputId": "b485cb09-f383-48f7-bfe8-13233608399a",
        "colab": {
          "base_uri": "https://localhost:8080/"
        }
      },
      "execution_count": 14,
      "outputs": [
        {
          "output_type": "execute_result",
          "data": {
            "text/plain": [
              "array([[ 1,  0,  9],\n",
              "       [ 3, 10,  1]])"
            ]
          },
          "metadata": {},
          "execution_count": 14
        }
      ]
    },
    {
      "cell_type": "markdown",
      "source": [
        "We can also do the same with columns.\n",
        "\n",
        "Below, we return columns that had mean greater than 3"
      ],
      "metadata": {
        "id": "I6NrKGoun0KR"
      }
    },
    {
      "cell_type": "code",
      "source": [
        "boolean_array = np.mean(x, axis=0)>3\n",
        "\n",
        "x[:, boolean_array]"
      ],
      "metadata": {
        "id": "73Kn34W7nQRV",
        "outputId": "fcbb7ea0-2005-4101-b2a5-a2dfcfa3fee2",
        "colab": {
          "base_uri": "https://localhost:8080/"
        }
      },
      "execution_count": 17,
      "outputs": [
        {
          "output_type": "execute_result",
          "data": {
            "text/plain": [
              "array([[ 0],\n",
              "       [ 4],\n",
              "       [ 4],\n",
              "       [10]])"
            ]
          },
          "metadata": {},
          "execution_count": 17
        }
      ]
    },
    {
      "cell_type": "code",
      "source": [],
      "metadata": {
        "id": "Ui8u3kXtn5V6"
      },
      "execution_count": null,
      "outputs": []
    }
  ]
}