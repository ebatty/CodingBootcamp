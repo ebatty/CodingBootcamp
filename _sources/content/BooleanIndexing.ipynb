{
 "nbformat": 4,
 "nbformat_minor": 0,
 "metadata": {
  "colab": {
   "provenance": [],
   "authorship_tag": "ABX9TyMcnoPnULKYWwYSQGFWADsf"
  },
  "kernelspec": {
   "name": "python3",
   "display_name": "Python 3"
  },
  "language_info": {
   "name": "python"
  }
 },
 "cells": [
  {
   "cell_type": "markdown",
   "source": [
    "# Boolean Indexing"
   ],
   "metadata": {
    "id": "bbDDf_NWnFCt"
   }
  },
  {
   "cell_type": "code",
   "execution_count": null,
   "metadata": {
    "id": "SOWxeODinEUv"
   },
   "outputs": [],
   "source": []
  }
 ]
}