{
  "metadata": {
    "kernelspec": {
      "name": "python3",
      "display_name": "Python 3 (ipykernel)",
      "language": "python"
    },
    "colab": {
      "provenance": []
    }
  },
  "nbformat": 4,
  "nbformat_minor": 0,
  "cells": [
    {
      "cell_type": "markdown",
      "source": [
        "# Indexing"
      ],
      "metadata": {
        "id": "-RwdOhseR57X"
      }
    },
    {
      "cell_type": "code",
      "execution_count": 2,
      "metadata": {
        "id": "aBwOWff_RB58"
      },
      "outputs": [],
      "source": [
        "import numpy as np"
      ]
    },
    {
      "cell_type": "markdown",
      "metadata": {
        "id": "kQfExATzRB5_"
      },
      "source": [
        "Let's first create this array\n",
        "\n",
        "![picture](https://raw.githubusercontent.com/ebatty/CodingBootcamp/master/images/array.png)"
      ]
    },
    {
      "cell_type": "code",
      "execution_count": null,
      "metadata": {
        "id": "L5pXSATpRB6A"
      },
      "outputs": [],
      "source": [
        "x = np.array([[4, 2, 1, 3], [1, 0, 3, 5], [6, 7, 8, 2]])"
      ]
    },
    {
      "cell_type": "markdown",
      "metadata": {
        "id": "D45Z3V-GRB6B"
      },
      "source": [
        "We can grab specific data points using:\n",
        "\n",
        "`x[row index, column index]`"
      ]
    },
    {
      "cell_type": "code",
      "execution_count": null,
      "metadata": {
        "id": "YTOiN9z5RB6B"
      },
      "outputs": [],
      "source": [
        "x[2, 1]"
      ]
    },
    {
      "cell_type": "markdown",
      "metadata": {
        "id": "T-qBE065RB6C"
      },
      "source": [
        "We can grab multiple column values in one row with:\n",
        "```\n",
        "x[row index, start index:stop index*]\n",
        "```\n",
        "\n",
        "\\* not inclusive of stop index"
      ]
    },
    {
      "cell_type": "code",
      "execution_count": null,
      "metadata": {
        "id": "Kejkt4UNRB6D"
      },
      "outputs": [],
      "source": [
        "x[0, 1:3]"
      ]
    },
    {
      "cell_type": "markdown",
      "source": [
        "We can skip over certain rows/columns with a step count:\n",
        "\n",
        "`x[row index, start index:stop index:step count]`\n",
        "\n",
        "will get columns from start index up to but not including stop index, skipping every step count.\n",
        "\n",
        "In other words, x[0, 0:4:2] would get every second column from column with index 0 to column with index 4 (so columns 0 and 2)."
      ],
      "metadata": {
        "id": "IiqnxF1ecz65"
      }
    },
    {
      "cell_type": "markdown",
      "metadata": {
        "id": "9poaVYc2RB6D"
      },
      "source": [
        "We can overwrite subsets of our array."
      ]
    },
    {
      "cell_type": "code",
      "execution_count": null,
      "metadata": {
        "id": "lkT24GvkRB6E"
      },
      "outputs": [],
      "source": [
        "x[0, 0] = 100"
      ]
    },
    {
      "cell_type": "code",
      "execution_count": null,
      "metadata": {
        "id": "hczm6r37RB6E"
      },
      "outputs": [],
      "source": [
        "x"
      ]
    },
    {
      "cell_type": "code",
      "execution_count": null,
      "metadata": {
        "id": "zjiLSDpjRB6F"
      },
      "outputs": [],
      "source": [
        "x[0, :] = 100"
      ]
    },
    {
      "cell_type": "code",
      "execution_count": null,
      "metadata": {
        "id": "aLqMRBiERB6F"
      },
      "outputs": [],
      "source": [
        "x"
      ]
    },
    {
      "cell_type": "markdown",
      "source": [
        "# Indexing into 1D arrays\n",
        "\n",
        "So far, we've assumed we have a 2-dimensional array with rows and columns. What if our array is 1-dimensional (so does not have columns)? Let's look at an example of this:"
      ],
      "metadata": {
        "id": "0JVX32n7h77E"
      }
    },
    {
      "cell_type": "code",
      "source": [
        "y = np.array([5, 6, 1])"
      ],
      "metadata": {
        "id": "CdjKm3FXR3Xs"
      },
      "execution_count": 3,
      "outputs": []
    },
    {
      "cell_type": "markdown",
      "source": [
        "If we look at the shape of y, we can see it has 3 rows and no columns:"
      ],
      "metadata": {
        "id": "VCDpTQvgiMhS"
      }
    },
    {
      "cell_type": "code",
      "source": [
        "np.shape(y)"
      ],
      "metadata": {
        "id": "8c-D-OZIiKqn",
        "outputId": "6ebba760-9fc7-490e-fcc1-59c8adc7d073",
        "colab": {
          "base_uri": "https://localhost:8080/"
        }
      },
      "execution_count": 4,
      "outputs": [
        {
          "output_type": "execute_result",
          "data": {
            "text/plain": [
              "(3,)"
            ]
          },
          "metadata": {},
          "execution_count": 4
        }
      ]
    },
    {
      "cell_type": "markdown",
      "source": [
        "To index into a 1D array like `y`, we can just specify a row index and not bother with a column index:\n",
        "\n",
        "`y[row index]`\n",
        "\n",
        "So, we could get the 2nd entry of y with `y[1]` for example"
      ],
      "metadata": {
        "id": "UmYd3MR-iTqd"
      }
    },
    {
      "cell_type": "code",
      "source": [
        "y[1]"
      ],
      "metadata": {
        "id": "39eZum5niRL4",
        "outputId": "8b2a4290-05d6-49be-f2d5-acae818a8a32",
        "colab": {
          "base_uri": "https://localhost:8080/"
        }
      },
      "execution_count": 5,
      "outputs": [
        {
          "output_type": "execute_result",
          "data": {
            "text/plain": [
              "6"
            ]
          },
          "metadata": {},
          "execution_count": 5
        }
      ]
    },
    {
      "cell_type": "code",
      "source": [],
      "metadata": {
        "id": "7N8JOJMhiey4"
      },
      "execution_count": null,
      "outputs": []
    }
  ]
}