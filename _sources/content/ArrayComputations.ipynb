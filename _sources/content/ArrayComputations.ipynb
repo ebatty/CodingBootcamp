{
 "metadata": {
  "kernelspec": {
   "name": "python3",
   "display_name": "Python 3 (ipykernel)",
   "language": "python"
  },
  "colab": {
   "provenance": []
  }
 },
 "nbformat": 4,
 "nbformat_minor": 0,
 "cells": [
  {
   "cell_type": "markdown",
   "source": [
    "# Array Computations"
   ],
   "metadata": {
    "id": "5t2VMADuDyIs"
   }
  },
  {
   "cell_type": "markdown",
   "metadata": {},
   "source": [
    "\n"
   ]
  },
  {
   "cell_type": "code",
   "source": [
    "#@markdown\n",
    "from IPython.display import YouTubeVideo\n",
    "video = YouTubeVideo(id=\"h_KYkTFkfNw\", width=730, height=410, fs=1)\n",
    "print(\"Video available at https://youtube.com/watch?v=\" + video.id)\n",
    "video"
   ],
   "metadata": {
    "cellView": "form",
    "id": "bIQ2HWsu3-7M",
    "tags": [
     "remove-input"
    ]
   },
   "execution_count": null,
   "outputs": []
  },
  {
   "cell_type": "markdown",
   "metadata": {
    "id": "ZQdRNzLHDvcG"
   },
   "source": [
    "# Setting up our data"
   ]
  },
  {
   "cell_type": "markdown",
   "metadata": {
    "id": "YO3eAcOzDvcJ"
   },
   "source": [
    "Let's say we have an array of data with 2 rows and 3 columns."
   ]
  },
  {
   "cell_type": "markdown",
   "metadata": {
    "id": "czmDAadwDvcJ"
   },
   "source": [
    "We can create the array as follows:"
   ]
  },
  {
   "cell_type": "code",
   "execution_count": null,
   "metadata": {
    "id": "rWsX8PHCDvcK"
   },
   "outputs": [],
   "source": [
    "import numpy as np\n",
    "x = np.array([[1, 0, 1], [3, 4, 1]])"
   ]
  },
  {
   "cell_type": "markdown",
   "metadata": {
    "id": "-GcAqr2_DvcK"
   },
   "source": [
    "# Investigating the data\n",
    "\n",
    "We can compute the shape of the array (to get the number of rows and columns)"
   ]
  },
  {
   "cell_type": "code",
   "execution_count": null,
   "metadata": {
    "id": "fwablFL3DvcL",
    "outputId": "662e0096-2f7f-49e6-c6c7-8eb1d75c0a60",
    "colab": {
     "base_uri": "https://localhost:8080/"
    }
   },
   "outputs": [
    {
     "output_type": "execute_result",
     "data": {
      "text/plain": [
       "(2, 3)"
      ]
     },
     "metadata": {},
     "execution_count": 4
    }
   ],
   "source": [
    "np.shape(x)"
   ]
  },
  {
   "cell_type": "markdown",
   "metadata": {
    "id": "rEt46BzPDvcM"
   },
   "source": [
    "The first number outputted above is the number of rows, the second is the number of columns."
   ]
  },
  {
   "cell_type": "markdown",
   "metadata": {
    "id": "rQpy9jGzDvcM"
   },
   "source": [
    "We can also get the minimum and maximum values in the array"
   ]
  },
  {
   "cell_type": "code",
   "execution_count": null,
   "metadata": {
    "id": "sO_TRSiMDvcN",
    "outputId": "419079ab-e049-46a2-8c0d-305a99e7fc3f",
    "colab": {
     "base_uri": "https://localhost:8080/"
    }
   },
   "outputs": [
    {
     "output_type": "execute_result",
     "data": {
      "text/plain": [
       "0"
      ]
     },
     "metadata": {},
     "execution_count": 5
    }
   ],
   "source": [
    "np.min(x)"
   ]
  },
  {
   "cell_type": "code",
   "execution_count": null,
   "metadata": {
    "id": "NVjnZabnDvcN",
    "outputId": "d7c89747-ba7c-4be2-cb9d-f58df4b002b5",
    "colab": {
     "base_uri": "https://localhost:8080/"
    }
   },
   "outputs": [
    {
     "output_type": "execute_result",
     "data": {
      "text/plain": [
       "4"
      ]
     },
     "metadata": {},
     "execution_count": 6
    }
   ],
   "source": [
    "np.max(x)"
   ]
  },
  {
   "cell_type": "markdown",
   "metadata": {
    "id": "A-aZoj3EDvcN"
   },
   "source": [
    "We can sum over all the values in the array, or get the mean of all values as follows:"
   ]
  },
  {
   "cell_type": "code",
   "execution_count": null,
   "metadata": {
    "id": "uKyd2_WoDvcO",
    "outputId": "f2e9daab-2520-475f-a782-201d68458eb3",
    "colab": {
     "base_uri": "https://localhost:8080/"
    }
   },
   "outputs": [
    {
     "output_type": "execute_result",
     "data": {
      "text/plain": [
       "10"
      ]
     },
     "metadata": {},
     "execution_count": 7
    }
   ],
   "source": [
    "np.sum(x)"
   ]
  },
  {
   "cell_type": "code",
   "execution_count": null,
   "metadata": {
    "id": "MsRkd1CpDvcO",
    "outputId": "59f9b9d1-b2f7-49ea-de6f-abf91b567162",
    "colab": {
     "base_uri": "https://localhost:8080/"
    }
   },
   "outputs": [
    {
     "output_type": "execute_result",
     "data": {
      "text/plain": [
       "1.6666666666666667"
      ]
     },
     "metadata": {},
     "execution_count": 8
    }
   ],
   "source": [
    "np.mean(x)"
   ]
  },
  {
   "cell_type": "markdown",
   "metadata": {
    "id": "C3IxOri_DvcO"
   },
   "source": [
    "# Axis-specific computations\n",
    "\n",
    "We might want to get the mean per column or per row, instead of over the whole array. We can do this with the following code:\n",
    "\n",
    "`np.mean(x, axis = ?)`\n",
    "\n",
    "Where the question mark is needs to be replaced with the axis that we want to compute over.\n",
    "\n",
    "The rows are axis 0, when we enter axis = 0 as an argument into the np.mean command, we are asking numpy to compute the mean over the rows (which would be the column means)\n",
    "\n",
    "![picture](https://raw.githubusercontent.com/ebatty/CodingBootcamp/master/images/axes.png)"
   ]
  },
  {
   "cell_type": "markdown",
   "metadata": {
    "id": "a0KSf-lkDvcP"
   },
   "source": [
    "We can get the mean over rows with:"
   ]
  },
  {
   "cell_type": "code",
   "execution_count": null,
   "metadata": {
    "id": "3bbgzS1yDvcP",
    "outputId": "5fd686b0-bc67-4c8f-db4f-c87636535d77",
    "colab": {
     "base_uri": "https://localhost:8080/"
    }
   },
   "outputs": [
    {
     "output_type": "execute_result",
     "data": {
      "text/plain": [
       "array([0.66666667, 2.66666667])"
      ]
     },
     "metadata": {},
     "execution_count": 9
    }
   ],
   "source": [
    "np.mean(x, axis = 1)"
   ]
  },
  {
   "cell_type": "markdown",
   "metadata": {
    "id": "-lMotDJdDvcP"
   },
   "source": [
    "We can get the mean over columns with:"
   ]
  },
  {
   "cell_type": "code",
   "execution_count": null,
   "metadata": {
    "id": "V5KVWT9BDvcP",
    "outputId": "693b16fa-5bd4-4a90-cbcb-8e4270d1d1c5",
    "colab": {
     "base_uri": "https://localhost:8080/"
    }
   },
   "outputs": [
    {
     "output_type": "execute_result",
     "data": {
      "text/plain": [
       "array([2., 2., 1.])"
      ]
     },
     "metadata": {},
     "execution_count": 10
    }
   ],
   "source": [
    "np.mean(x, axis = 0)"
   ]
  },
  {
   "cell_type": "markdown",
   "metadata": {
    "id": "ntKgtWiiDvcP"
   },
   "source": [
    "# Vectorization\n",
    "\n",
    "If you do something like a math operation on an array, it will do element-wise operation\n",
    "\n",
    "![picture](https://raw.githubusercontent.com/ebatty/CodingBootcamp/master/images/addition.png)"
   ]
  },
  {
   "cell_type": "code",
   "execution_count": null,
   "metadata": {
    "id": "XX8lPPwhDvcQ",
    "outputId": "b340176b-afdf-496d-c47b-52071d934685",
    "colab": {
     "base_uri": "https://localhost:8080/"
    }
   },
   "outputs": [
    {
     "output_type": "execute_result",
     "data": {
      "text/plain": [
       "array([[2, 1, 2],\n",
       "       [4, 5, 2]])"
      ]
     },
     "metadata": {},
     "execution_count": 11
    }
   ],
   "source": [
    "x + 1"
   ]
  },
  {
   "cell_type": "markdown",
   "metadata": {
    "id": "4LPUtNvjDvcQ"
   },
   "source": [
    "If we do something like added two arrays of the same shape, that will also be element-wise.\n",
    "\n",
    "![picture](https://raw.githubusercontent.com/ebatty/CodingBootcamp/master/images/addition_two_arrays.png)"
   ]
  },
  {
   "cell_type": "code",
   "execution_count": null,
   "metadata": {
    "id": "ueRrFylaDvcQ",
    "outputId": "4a2159ce-a3d8-470b-9f4d-e671a8a5dd54",
    "colab": {
     "base_uri": "https://localhost:8080/"
    }
   },
   "outputs": [
    {
     "output_type": "execute_result",
     "data": {
      "text/plain": [
       "array([[3, 3, 1],\n",
       "       [7, 5, 2]])"
      ]
     },
     "metadata": {},
     "execution_count": 12
    }
   ],
   "source": [
    "y = np.array([[2, 3, 0], [4, 1, 1]])\n",
    "\n",
    "x + y"
   ]
  },
  {
   "cell_type": "code",
   "execution_count": null,
   "metadata": {
    "id": "PJ1pMm_HDvcQ"
   },
   "outputs": [],
   "source": []
  }
 ]
}