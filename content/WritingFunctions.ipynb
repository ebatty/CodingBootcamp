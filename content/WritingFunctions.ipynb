{
  "nbformat": 4,
  "nbformat_minor": 0,
  "metadata": {
    "colab": {
      "provenance": [],
      "authorship_tag": "ABX9TyPGt5yCKA4b6Qyd9d/0OW0V"
    },
    "kernelspec": {
      "name": "python3",
      "display_name": "Python 3"
    },
    "language_info": {
      "name": "python"
    }
  },
  "cells": [
    {
      "cell_type": "markdown",
      "source": [
        "# Writing Functions"
      ],
      "metadata": {
        "id": "c1GP0wHh2kYa"
      }
    },
    {
      "cell_type": "markdown",
      "source": [
        "Basic function syntax"
      ],
      "metadata": {
        "id": "SO_6N2FihHn6"
      }
    },
    {
      "cell_type": "code",
      "source": [
        "def is_it_hot(temperature):\n",
        "\n",
        "    heat_decision = temperature > 75\n",
        "\n",
        "    return heat_decision"
      ],
      "metadata": {
        "id": "HALnYjCtgrW9"
      },
      "execution_count": null,
      "outputs": []
    },
    {
      "cell_type": "code",
      "source": [
        "dec = is_it_hot(80)\n",
        "\n",
        "dec"
      ],
      "metadata": {
        "colab": {
          "base_uri": "https://localhost:8080/"
        },
        "id": "Zm9yA4AmhIkl",
        "outputId": "8c7b28ed-3cf3-4000-d462-c605c23192ae"
      },
      "execution_count": null,
      "outputs": [
        {
          "output_type": "execute_result",
          "data": {
            "text/plain": [
              "True"
            ]
          },
          "metadata": {},
          "execution_count": 3
        }
      ]
    },
    {
      "cell_type": "markdown",
      "source": [
        "Multiple input arguments"
      ],
      "metadata": {
        "id": "YOPldV-yhKlo"
      }
    },
    {
      "cell_type": "code",
      "source": [
        "def is_it_hot(temperature, threshold):\n",
        "\n",
        "    heat_decision = temperature > threshold\n",
        "\n",
        "    return heat_decision"
      ],
      "metadata": {
        "id": "-pwJWet3hJVq"
      },
      "execution_count": null,
      "outputs": []
    },
    {
      "cell_type": "markdown",
      "source": [
        "Setting a default value for threshold"
      ],
      "metadata": {
        "id": "Q1ImNs1rhNe4"
      }
    },
    {
      "cell_type": "code",
      "source": [
        "def is_it_hot(temperature, threshold=75):\n",
        "\n",
        "    heat_decision = temperature > threshold\n",
        "\n",
        "    return heat_decision"
      ],
      "metadata": {
        "id": "-tYy6EXzhMG2"
      },
      "execution_count": null,
      "outputs": []
    },
    {
      "cell_type": "markdown",
      "source": [
        "Multiple outputs"
      ],
      "metadata": {
        "id": "6xG8lzvGhP8Y"
      }
    },
    {
      "cell_type": "code",
      "source": [
        "def is_it_hot(temperature, threshold=75):\n",
        "\n",
        "    heat_decision = temperature > threshold\n",
        "\n",
        "    degrees_C = (temperature - 32) * 5/9\n",
        "    return heat_decision, degrees_C"
      ],
      "metadata": {
        "id": "unLQsrZ4hO15"
      },
      "execution_count": null,
      "outputs": []
    }
  ]
}