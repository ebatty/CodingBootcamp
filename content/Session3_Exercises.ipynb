{
  "nbformat": 4,
  "nbformat_minor": 0,
  "metadata": {
    "colab": {
      "provenance": [],
      "authorship_tag": "ABX9TyMcVw7AYZcvXzciBoVvAQkI"
    },
    "kernelspec": {
      "name": "python3",
      "display_name": "Python 3"
    },
    "language_info": {
      "name": "python"
    }
  },
  "cells": [
    {
      "cell_type": "markdown",
      "source": [
        "# Session 3 Exercises\n",
        "\n",
        "## Your name here\n"
      ],
      "metadata": {
        "id": "2W8B5DrISH2B"
      }
    },
    {
      "cell_type": "code",
      "source": [],
      "metadata": {
        "id": "A2Zy0rdHsvsx"
      },
      "execution_count": null,
      "outputs": []
    },
    {
      "cell_type": "code",
      "execution_count": null,
      "metadata": {
        "id": "MB5-p4NGRk3Z"
      },
      "outputs": [],
      "source": [
        "import numpy as np\n",
        "import matplotlib.pyplot as plt"
      ]
    },
    {
      "cell_type": "markdown",
      "source": [
        "# Section 1: For loop & if statement practice"
      ],
      "metadata": {
        "id": "0mJoYFJ5AYpc"
      }
    },
    {
      "cell_type": "markdown",
      "source": [
        "## Problem 1\n",
        "\n",
        "Write an if statement that prints x if `x` is equal to 100 and prints 'Not 100' otherwise. You can print x using the command `print(x)` and 'Not 100' using the command `print('Not 100')`\n",
        "\n",
        "Once you've written it, change `x` to 99 and make sure you see 'Not 100' below the code cell.\n",
        "\n",
        "Check out notes on if statements if you get stuck! https://ebatty.github.io/CodingBootcamp/content/IfStatements.html"
      ],
      "metadata": {
        "id": "sPrkmv08Yy2I"
      }
    },
    {
      "cell_type": "code",
      "source": [
        "# @markdown Click for hint\n",
        "\n",
        "\"\"\"\n",
        "We can check if a variable is equal to\n",
        "a number using our equal to comparison operator\n",
        "https://ebatty.github.io/CodingBootcamp/content/ComparisonandLogicalOperators.html\n",
        "\n",
        "\"\"\""
      ],
      "metadata": {
        "cellView": "form",
        "id": "hw2p7f1CctU5"
      },
      "execution_count": null,
      "outputs": []
    },
    {
      "cell_type": "code",
      "source": [
        "x = 100\n",
        "\n",
        "# print(x)\n",
        "# print('Not 100')"
      ],
      "metadata": {
        "id": "zX64zCtcZcNS"
      },
      "execution_count": null,
      "outputs": []
    },
    {
      "cell_type": "markdown",
      "source": [
        "## Problem 2\n",
        "\n",
        "Write a for loop that prints each value of the array `data`, one at a time.\n",
        "\n",
        "Check out notes on for loops if you get stuck! https://ebatty.github.io/CodingBootcamp/content/ForLoops.html\n"
      ],
      "metadata": {
        "id": "FsNqF26OZlRT"
      }
    },
    {
      "cell_type": "markdown",
      "source": [
        "\n",
        "When you're done, you should see the following output below your code cell:\n",
        "\n",
        "![Screenshot 2023-10-12 at 9.01.58 PM.png](data:image/png;base64,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)"
      ],
      "metadata": {
        "id": "dLLMddZ2ja8R"
      }
    },
    {
      "cell_type": "code",
      "source": [
        "data = np.array([5, 10, 2, 10, 10, 3])\n"
      ],
      "metadata": {
        "id": "CmvpujcMZrHW"
      },
      "execution_count": null,
      "outputs": []
    },
    {
      "cell_type": "markdown",
      "source": [
        "## Problem 3\n",
        "\n",
        "Without running the code, what would `count` equal after running this code?\n",
        "\n",
        "```\n",
        "count = 0\n",
        "for i in range(0, 9):\n",
        "  if i > 5:\n",
        "    count = count + 1\n",
        "  elif i <= 3:\n",
        "    count = count - 1\n",
        "```"
      ],
      "metadata": {
        "id": "t3xuvYp0dgA1"
      }
    },
    {
      "cell_type": "markdown",
      "source": [
        "Your answer here"
      ],
      "metadata": {
        "id": "JOiUmQtKa3Qe"
      }
    },
    {
      "cell_type": "markdown",
      "source": [
        "## Problem 4\n",
        "\n",
        "We want to count how many times 10 appears in this data array. Use a for loop to do so.\n",
        "\n",
        "You can see from the array that 10 appears 3 times. So if `count` is equal to 3 after you run your code, you've done it!"
      ],
      "metadata": {
        "id": "TP18L3uYZyw4"
      }
    },
    {
      "cell_type": "code",
      "source": [
        "# @markdown Click here for hint\n",
        "\n",
        "\"\"\"\n",
        "First, create a variable called `count` that\n",
        "has value 0. Then loop over each value of\n",
        "`data` (as you did in problem 2).\n",
        "If the value is equal to 10,\n",
        " add one to the counter.\n",
        "\"\"\""
      ],
      "metadata": {
        "cellView": "form",
        "id": "Yzu4nBT9fMAc"
      },
      "execution_count": null,
      "outputs": []
    },
    {
      "cell_type": "code",
      "source": [
        "data = np.array([5, 10, 2, 10, 10, 3])\n",
        "\n",
        "\n",
        "\n"
      ],
      "metadata": {
        "id": "D8kNvqMNZ4Qj"
      },
      "execution_count": null,
      "outputs": []
    },
    {
      "cell_type": "markdown",
      "source": [
        "# Section 2: Working with Spikes Part 3\n",
        "\n",
        "We're going to work with the same spike count data as in Session 2.\n",
        "\n",
        "We have an array called `spikes` with 1000 trials (rows). We have 1500 time bins (columns) and in each trial the reach movement onset happens at the 750th time bin.\n",
        "\n",
        "The reach movement on each trial is to one of 8 target options. We refer to these target options by the angle of the reach to them.  `trial_angles` is an array of shape (1000,). Each entry contains the reaching angle on that trial.\n",
        "\n",
        "The next cell loads in this data."
      ],
      "metadata": {
        "id": "FPXUkm0dW7No"
      }
    },
    {
      "cell_type": "code",
      "source": [
        "import numpy as np\n",
        "import matplotlib.pyplot as plt\n",
        "\n",
        "import requests\n",
        "import io\n",
        "\n",
        "r = requests.get('https://osf.io/m5tj3/download')\n",
        "spikes = np.load(io.BytesIO(r.content))\n",
        "\n",
        "r = requests.get('https://osf.io/af84k/download')\n",
        "trial_angles = np.load(io.BytesIO(r.content))\n",
        "\n",
        "\n",
        "dt = 0.001 # in seconds, each time bin is 1 ms"
      ],
      "metadata": {
        "id": "w7k05ux4XJ20"
      },
      "execution_count": null,
      "outputs": []
    },
    {
      "cell_type": "markdown",
      "source": [
        "In Session 2 exercises, we asked you to compute an average response of the neuron to reaches to angle 0.\n",
        "\n",
        "The following code implements this computation for a given reach angle (here angle of 135)"
      ],
      "metadata": {
        "id": "BL1i9f-kXdRn"
      }
    },
    {
      "cell_type": "code",
      "source": [
        "reach_angle = 135\n",
        "np.mean(spikes[trial_angles==reach_angle, 500:1000])/dt"
      ],
      "metadata": {
        "id": "ZW0BjnTJXJ6M"
      },
      "execution_count": null,
      "outputs": []
    },
    {
      "cell_type": "markdown",
      "source": [
        "We also got the unique reach angles using the `np.unique` function:"
      ],
      "metadata": {
        "id": "1-5eU3aQYYix"
      }
    },
    {
      "cell_type": "code",
      "source": [
        "unique_reach_angles = np.unique(trial_angles)\n",
        "unique_reach_angles"
      ],
      "metadata": {
        "id": "QE3NdiAlYcNW"
      },
      "execution_count": null,
      "outputs": []
    },
    {
      "cell_type": "markdown",
      "source": [
        "We want to compute the neuron's mean response to each of the 8 reaching angles (using our computation from above). We can then plot how the neural response changes with reach angle. The following exercises will walk you through this but *challenge mode* if you have more prior coding experience is to try to do this with only the above information.\n"
      ],
      "metadata": {
        "id": "Q-4nnNuCZrn0"
      }
    },
    {
      "cell_type": "markdown",
      "source": [
        "\n",
        "1. We want to loop through the 8 different reach angle options (to later compute the neural response to reaches to that angle). As a first step, create a for loop that loops a variable named `i` through values 0 up to 7.  For now, you can just print i at every iteration of the loop.\n",
        "\n",
        "You should see the following output below your code cell:\n",
        "\n",
        "![Screenshot 2023-10-12 at 8.36.18 PM.png](data:image/png;base64,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)\n"
      ],
      "metadata": {
        "id": "-4P_TYiZX4P-"
      }
    },
    {
      "cell_type": "code",
      "source": [
        "for i in range(8):\n",
        "  print(i)"
      ],
      "metadata": {
        "id": "ym6C7J-2XJ9T"
      },
      "execution_count": null,
      "outputs": []
    },
    {
      "cell_type": "markdown",
      "source": [
        "2. Now, on each iteration of the loop, we want to index into a different entry in `unique_reach_angles` using `i`. Copy and paste your code from Q1 and update it so that within the for loop, you are printing the ith indexed entry of `unique_reach_angles`.\n",
        "\n",
        "Check out the notes on indexing for help: https://ebatty.github.io/CodingBootcamp/content/Indexing.html. The section on indexing into 1D arrays may be especially useful."
      ],
      "metadata": {
        "id": "VNsE9tDifdAv"
      }
    },
    {
      "cell_type": "markdown",
      "source": [
        "\n",
        "After you finish, you should see the following output below your code cell when you run it:\n",
        "\n",
        "![Screenshot 2023-10-12 at 8.38.37 PM.png](data:image/png;base64,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)"
      ],
      "metadata": {
        "id": "QqxpPgkydI8L"
      }
    },
    {
      "cell_type": "code",
      "source": [],
      "metadata": {
        "id": "TPwTQdfLdy1o"
      },
      "execution_count": null,
      "outputs": []
    },
    {
      "cell_type": "markdown",
      "source": [
        "3. Now, we want to add in our computation of the mean neural response within this for loop. Copy and paste your code from Q2 below as a starting point. Now, instead of printing the reach angle on each loop, update your code so that you are computing the mean neural response to reaches to that angle. Print the mean neural response to each reach angle.\n",
        "\n",
        "Hint: Remember that this is the code to compute the mean neural response for a given reach angle\n",
        "\n",
        "```\n",
        "reach_angle = 135\n",
        "np.mean(spikes[trial_angles==reach_angle, 500:1000])/dt\n",
        "```"
      ],
      "metadata": {
        "id": "MHFUEDpgjzKO"
      }
    },
    {
      "cell_type": "markdown",
      "source": [
        "\n",
        "\n",
        "After you finish, you should see the following output below your code cell when you run it:\n",
        "\n",
        "![Screenshot 2023-10-12 at 8.40.40 PM.png](data:image/png;base64,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)\n",
        "\n"
      ],
      "metadata": {
        "id": "ZLDk4pVUZN3W"
      }
    },
    {
      "cell_type": "code",
      "source": [],
      "metadata": {
        "id": "dGvaMfWBZZXh"
      },
      "execution_count": null,
      "outputs": []
    },
    {
      "cell_type": "markdown",
      "source": [
        " 4. Now, we need to store the information we're computing somewhere (otherwise it gets overwritten on each iteration of the loop).\n",
        "\n",
        "In the code cell below, I create an array of 8 zeros called `firing_rate_per_angle`.\n",
        "\n",
        "After that, it's your turn! Copy and paste your code from Q3 below and update it as follows.\n",
        "\n",
        "We want each entry of `firing_rate_per_angle` to contain the mean neural response to reaches to the angle that is in the corresponding entry in unique_reaching_angles.\n",
        "\n",
        "Since the first entry in `unique_reaching_angles` is 0, the first entry in `firing_rate_per_angle` should be the mean neural response to reaches of angle 0. The second entry in `unique_reaching_angles` is 45, so the second entry in `firing_rate_per_angle` should be the mean neural response to reaches of angle 45.\n",
        "\n",
        "\n",
        "\n"
      ],
      "metadata": {
        "id": "kmxAlbL5Zv_i"
      }
    },
    {
      "cell_type": "markdown",
      "source": [
        "After you finish, `firing_rate_per_angle` should be this array: `array([ 0.   , 56.016, 95.728, 92.256, 50.192,  0.   ,  0.   ,  0.   ])`"
      ],
      "metadata": {
        "id": "Zk3GZvXNg1ow"
      }
    },
    {
      "cell_type": "code",
      "source": [
        "firing_rate_per_angle = np.zeros((8, ))\n",
        "\n",
        "# copy and paste code from Q3 to update it here"
      ],
      "metadata": {
        "id": "KisRSYlJZ3oA"
      },
      "execution_count": null,
      "outputs": []
    },
    {
      "cell_type": "code",
      "source": [
        "# @markdown Click here for hint\n",
        "\n",
        "\"\"\"\n",
        "Remember that we can overwrite\n",
        "a value in a numpy array.\n",
        "\n",
        "If y is an array with 3 numbers, we\n",
        "could update the second value of y to be 4\n",
        "by doing:\n",
        "\n",
        "y[1] = 4\n",
        "\n",
        "\"\"\""
      ],
      "metadata": {
        "cellView": "form",
        "id": "X0pYe8VvhA19"
      },
      "execution_count": null,
      "outputs": []
    },
    {
      "cell_type": "code",
      "source": [],
      "metadata": {
        "id": "54rX5T58hAzi"
      },
      "execution_count": null,
      "outputs": []
    },
    {
      "cell_type": "markdown",
      "source": [
        "5. Plot the firing rate of the neuron to different angles vs the angles. Don't forget to label axes and add a title!"
      ],
      "metadata": {
        "id": "YJ16qokQc6dB"
      }
    },
    {
      "cell_type": "code",
      "source": [],
      "metadata": {
        "id": "-AFib_Nec-R0"
      },
      "execution_count": null,
      "outputs": []
    }
  ]
}