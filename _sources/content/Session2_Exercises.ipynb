{
 "nbformat": 4,
 "nbformat_minor": 0,
 "metadata": {
  "colab": {
   "provenance": [],
   "authorship_tag": "ABX9TyN55yvl+F0YuWcBQ4vM1J+w"
  },
  "kernelspec": {
   "name": "python3",
   "display_name": "Python 3"
  },
  "language_info": {
   "name": "python"
  }
 },
 "cells": [
  {
   "cell_type": "markdown",
   "source": [
    "# Session 2 Exercises\n",
    "\n",
    "\n",
    "## Your name here"
   ],
   "metadata": {
    "id": "Y_R_LfRdG90o"
   }
  },
  {
   "cell_type": "code",
   "source": [],
   "metadata": {
    "id": "R6oyQkPPHBbK"
   },
   "execution_count": null,
   "outputs": []
  },
  {
   "cell_type": "code",
   "source": [],
   "metadata": {
    "id": "QEHL8PczHBeU"
   },
   "execution_count": null,
   "outputs": []
  },
  {
   "cell_type": "code",
   "source": [],
   "metadata": {
    "id": "yM_hvFE9HBhp"
   },
   "execution_count": null,
   "outputs": []
  },
  {
   "cell_type": "markdown",
   "source": [
    "## Working with Spikes Data Part 2"
   ],
   "metadata": {
    "id": "z_amINDW414g"
   }
  },
  {
   "cell_type": "markdown",
   "metadata": {},
   "source": [
    " Click here for hint\n"
   ]
  },
  {
   "cell_type": "markdown",
   "source": [
    "Recall Working with Spikes Data from the previous session:\n",
    "\n",
    "You worked with an array of spikes counts where the rows were different trials, the columns are different time bins, and the entries were the spike counts during that time bin in that trial. Each time bin is 1 ms.\n",
    "\n",
    "This data was simulated but mimicked a situation where a monkey was performing a task where they make repeated reaching movements to the same target. The data was \"recorded\" from a neuron in the monkey's motor cortex.\n",
    "\n",
    "\n",
    "We are going to work with data in the same format again. We again have an array called `spikes`, but now we have 1000 trials. We have 1500 time bins and in each trial the reach movement onset happens at the 750th time bin.\n",
    "\n",
    "The only change is that the reach movement on each trial will be to one of 8 target options, instead of the same target each time. We are going to refer to these target options by the angle of the reach to them.  `trial_angles` is an array of shape (1000,). Each entry contains the reaching angle on that trial.\n",
    "\n",
    "The next cell loads in this data."
   ],
   "metadata": {
    "id": "1ahxcL8X5MU3",
    "tags": [
     "hide-input"
    ]
   }
  },
  {
   "cell_type": "code",
   "source": [
    "import numpy as np\n",
    "import matplotlib.pyplot as plt\n",
    "\n",
    "import requests\n",
    "import io\n",
    "\n",
    "r = requests.get('https://osf.io/m5tj3/download')\n",
    "spikes = np.load(io.BytesIO(r.content))\n",
    "\n",
    "r = requests.get('https://osf.io/af84k/download')\n",
    "trial_angles = np.load(io.BytesIO(r.content))\n",
    "\n",
    "\n",
    "dt = 0.001 # in seconds, each time bin is 1 ms"
   ],
   "metadata": {
    "id": "mCtpaVUq5MGm"
   },
   "execution_count": null,
   "outputs": []
  },
  {
   "cell_type": "markdown",
   "source": [
    "1. What are the 8 different reach options (aka the 8 different angles of reach)?\n",
    "\n",
    "Print an array with the 8 different reach angles\n",
    "\n"
   ],
   "metadata": {
    "id": "CFmqTmgq7ulX"
   }
  },
  {
   "cell_type": "code",
   "source": [
    "# @markdown Click here for hint\n",
    "\n",
    "\"\"\"\n",
    "Hint: trial_angles contains this information but it is\n",
    "1000 entries long with repeats of each reach.\n",
    "Use google to figure out how to get the unique values\n",
    "(include the word numpy in your search)\n",
    "\"\"\";"
   ],
   "metadata": {
    "cellView": "form",
    "id": "IFCIiFqC7zmT"
   },
   "execution_count": null,
   "outputs": []
  },
  {
   "cell_type": "code",
   "source": [],
   "metadata": {
    "id": "S52dWgsu8PJI"
   },
   "execution_count": null,
   "outputs": []
  },
  {
   "cell_type": "markdown",
   "source": [
    "2. Use Boolean indexing to get the trials where the monkey was reaching to a target at 0 degrees. Save this array as a variable called `spikes_for_angle_0`.\n",
    "\n"
   ],
   "metadata": {
    "id": "LFqZkIFg8PeM"
   }
  },
  {
   "cell_type": "code",
   "source": [],
   "metadata": {
    "id": "4V2xrrvN9lYd"
   },
   "execution_count": null,
   "outputs": []
  },
  {
   "cell_type": "markdown",
   "source": [
    "3. There should be 125 trials with a reach to angle of 0, so the array from Q2 should be 125 by 1500. Check the shape of `spikes_for_angle_0_trials` to make sure it is correct!"
   ],
   "metadata": {
    "id": "VUYAxbC-9_mE"
   }
  },
  {
   "cell_type": "code",
   "source": [],
   "metadata": {
    "id": "beosCWOC90ju"
   },
   "execution_count": null,
   "outputs": []
  },
  {
   "cell_type": "markdown",
   "source": [
    "4. Compute the average firing rate over time of this neuron during trials to angle 0 (i.e. the avearge spike count per time bin). No need to convert to spikes per second, you can leave as spikes per time bin.\n",
    "\n",
    "Hint: you did this in the session 1 exercises"
   ],
   "metadata": {
    "id": "RMKRWy5C-FKH"
   }
  },
  {
   "cell_type": "code",
   "source": [],
   "metadata": {
    "id": "HJAX3Lqg91j5"
   },
   "execution_count": null,
   "outputs": []
  },
  {
   "cell_type": "markdown",
   "source": [
    "5. Plot the average firing rate over time of this neuron during trials to angle 0. Label the x and y axis and add a title."
   ],
   "metadata": {
    "id": "IkC-8FKX-wXA"
   }
  },
  {
   "cell_type": "code",
   "source": [],
   "metadata": {
    "id": "mfIDVKuv_JXy"
   },
   "execution_count": null,
   "outputs": []
  },
  {
   "cell_type": "markdown",
   "source": [
    "6. (Text answer) What happens to the activity of this neuron around movement reach onset (which happens at the 750th time bin)"
   ],
   "metadata": {
    "id": "1EbBZhrb_QX6"
   }
  },
  {
   "cell_type": "markdown",
   "source": [],
   "metadata": {
    "id": "hhwyG_MM_bmY"
   }
  },
  {
   "cell_type": "markdown",
   "source": [
    "7. We want to compute a single number that summarizes the neural firing rate during reaches to this angle. We only want to consider the time period immediately around the movement onset, so in time bins 500 up to 1000. Can you figure out how to get the average spike count in time bins 500 up to 1000 across all trials to reach angle of 0? Try to do it in 1 to 2 lines of code, starting with the original `spikes` data.\n",
    "\n"
   ],
   "metadata": {
    "id": "FYwRUp3E_c2i"
   }
  },
  {
   "cell_type": "markdown",
   "metadata": {},
   "source": [
    " Hint 1\n"
   ]
  },
  {
   "cell_type": "code",
   "source": [],
   "metadata": {
    "id": "B4xA1vZs_LoA",
    "tags": [
     "hide-input"
    ]
   },
   "execution_count": null,
   "outputs": []
  },
  {
   "cell_type": "markdown",
   "metadata": {},
   "source": [
    " Hint 2\n"
   ]
  },
  {
   "cell_type": "markdown",
   "source": [
    "8. Can you convert this to an average firing rate in spikes per second?"
   ],
   "metadata": {
    "id": "BW51Gq2MBGHd",
    "tags": [
     "hide-input"
    ]
   }
  },
  {
   "cell_type": "code",
   "source": [],
   "metadata": {
    "id": "E5p4mBGEBRf3"
   },
   "execution_count": null,
   "outputs": []
  },
  {
   "cell_type": "markdown",
   "source": [
    "9. What is the single average firing rate in spikes per second for trials where the reach is to angle 135?"
   ],
   "metadata": {
    "id": "E6HiRi4XArC1"
   }
  },
  {
   "cell_type": "code",
   "source": [],
   "metadata": {
    "id": "_caJLERTAlWt"
   },
   "execution_count": null,
   "outputs": []
  },
  {
   "cell_type": "markdown",
   "source": [
    "10. (Text answer) Given the two numbers in Q8 and 9, do you think this neuron's activity could be correlated with (i.e. varies with) the direction of reach?"
   ],
   "metadata": {
    "id": "f8Olqmq7BjsK"
   }
  },
  {
   "cell_type": "markdown",
   "source": [],
   "metadata": {
    "id": "RisRsqGbB1hh"
   }
  },
  {
   "cell_type": "markdown",
   "source": [
    "## Mystery arrays"
   ],
   "metadata": {
    "id": "eA7VogTgCGeg"
   }
  },
  {
   "cell_type": "markdown",
   "source": [
    "### Array 1\n",
    "\n",
    "The cell below loads in mystery data into an array called `x`. Try to figure out the \"secret\" contained in this data by plotting it in different ways."
   ],
   "metadata": {
    "id": "7zPNltTTVM6B"
   }
  },
  {
   "cell_type": "code",
   "source": [
    "import requests\n",
    "import io\n",
    "\n",
    "r = requests.get('https://osf.io/3sd2p/download')\n",
    "\n",
    "x = np.load(io.BytesIO(r.content))"
   ],
   "metadata": {
    "id": "advrVyNACH1M"
   },
   "execution_count": null,
   "outputs": []
  },
  {
   "cell_type": "code",
   "source": [],
   "metadata": {
    "id": "1p-7NCLhGNmc"
   },
   "execution_count": null,
   "outputs": []
  },
  {
   "cell_type": "code",
   "source": [],
   "metadata": {
    "id": "iFzf8oZ8GPXO"
   },
   "execution_count": null,
   "outputs": []
  },
  {
   "cell_type": "markdown",
   "source": [
    "What is the secret in this data?"
   ],
   "metadata": {
    "id": "WYtjHYYraN2-"
   }
  },
  {
   "cell_type": "markdown",
   "source": [
    "Your answer here"
   ],
   "metadata": {
    "id": "ImdqD_mpaPqq"
   }
  },
  {
   "cell_type": "code",
   "source": [],
   "metadata": {
    "id": "fuy6RzwgWMTp"
   },
   "execution_count": null,
   "outputs": []
  },
  {
   "cell_type": "markdown",
   "source": [
    "## Array 2\n",
    "\n",
    "The cell below loads in mystery data into an array called x. Try to figure out how this data was generated by plotting it in different ways or looking at the data in other ways."
   ],
   "metadata": {
    "id": "otYtORXHWMbu"
   }
  },
  {
   "cell_type": "code",
   "source": [
    "# @markdown Hint 1\n",
    "\n",
    "# Try to plot it as an image. Make sure to add a colorbar!\n",
    "\n"
   ],
   "metadata": {
    "cellView": "form",
    "id": "qt-EVyS3WR0h"
   },
   "execution_count": null,
   "outputs": []
  },
  {
   "cell_type": "code",
   "source": [
    "# @markdown Hint 2\n",
    "\n",
    "# Try plotting all the values in a histogram"
   ],
   "metadata": {
    "cellView": "form",
    "id": "Xh_lDTQdXKJz"
   },
   "execution_count": null,
   "outputs": []
  },
  {
   "cell_type": "code",
   "source": [
    "import requests\n",
    "import io\n",
    "\n",
    "r = requests.get('https://osf.io/2saj7/download')\n",
    "\n",
    "y = np.load(io.BytesIO(r.content))"
   ],
   "metadata": {
    "id": "egqb6krqWSTp"
   },
   "execution_count": null,
   "outputs": []
  },
  {
   "cell_type": "code",
   "source": [],
   "metadata": {
    "id": "HXB68Yn0aYih"
   },
   "execution_count": null,
   "outputs": []
  },
  {
   "cell_type": "code",
   "source": [],
   "metadata": {
    "id": "D_6hajjZaYox"
   },
   "execution_count": null,
   "outputs": []
  },
  {
   "cell_type": "markdown",
   "source": [
    "What does this array consist of?"
   ],
   "metadata": {
    "id": "G4Vl_xXMaRkc"
   }
  },
  {
   "cell_type": "markdown",
   "source": [
    "Your answer here"
   ],
   "metadata": {
    "id": "ozAVRwnSaUa9"
   }
  },
  {
   "cell_type": "code",
   "source": [],
   "metadata": {
    "id": "-5BUAI-fZDRr"
   },
   "execution_count": null,
   "outputs": []
  }
 ]
}