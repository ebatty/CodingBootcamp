{
 "nbformat": 4,
 "nbformat_minor": 0,
 "metadata": {
  "colab": {
   "provenance": [],
   "toc_visible": true,
   "authorship_tag": "ABX9TyNso231OuF+Z33MgDM/lD+E"
  },
  "kernelspec": {
   "name": "python3",
   "display_name": "Python 3"
  },
  "language_info": {
   "name": "python"
  }
 },
 "cells": [
  {
   "cell_type": "markdown",
   "source": [
    "# Session 3 Exercises\n",
    "\n",
    "## Your name here\n"
   ],
   "metadata": {
    "id": "2W8B5DrISH2B"
   }
  },
  {
   "cell_type": "code",
   "source": [],
   "metadata": {
    "id": "vB_utUYNsvlP"
   },
   "execution_count": null,
   "outputs": []
  },
  {
   "cell_type": "code",
   "source": [],
   "metadata": {
    "id": "2XI0yONqsvou"
   },
   "execution_count": null,
   "outputs": []
  },
  {
   "cell_type": "code",
   "source": [],
   "metadata": {
    "id": "A2Zy0rdHsvsx"
   },
   "execution_count": null,
   "outputs": []
  },
  {
   "cell_type": "code",
   "execution_count": null,
   "metadata": {
    "id": "MB5-p4NGRk3Z"
   },
   "outputs": [],
   "source": [
    "import numpy as np\n",
    "import matplotlib.pyplot as plt"
   ]
  },
  {
   "cell_type": "markdown",
   "source": [
    "# Section 1: For loop & if statement practice"
   ],
   "metadata": {
    "id": "0mJoYFJ5AYpc"
   }
  },
  {
   "cell_type": "markdown",
   "source": [
    "## Problem 1\n",
    "\n",
    "Without running the code, what would `count` equal after running this code?\n",
    "\n",
    "```\n",
    "count = 0\n",
    "for i in range(18):\n",
    "  if i > 14:\n",
    "    count += 1\n",
    "  elif i <= 3:\n",
    "    count -= 1\n",
    "```"
   ],
   "metadata": {
    "id": "t3xuvYp0dgA1"
   }
  },
  {
   "cell_type": "markdown",
   "source": [
    "Your answer here"
   ],
   "metadata": {
    "id": "9MNY_MoNWoH5"
   }
  },
  {
   "cell_type": "markdown",
   "source": [
    "## Problem 2\n",
    "\n",
    "Write code that uses variable `n` representing a number and outputs the following:\n",
    "\n",
    "If the number is a multiple of 3, print Fizz\n",
    "\n",
    "If the number is a multiple of 5, print Buzz\n",
    "\n",
    "If the number is a multiple of both 3 and 5, print FizzBuzz\n",
    "\n",
    "Otherwise, print the number\n",
    "\n",
    "For example, n = 15 should lead to 'Fizzbuzz', n = 4 should lead to 4, and n = 5 should lead to 'Buzz'.\n",
    "\n",
    "**Start by figuring out the logical flow for this, then move to the actual code**"
   ],
   "metadata": {
    "id": "pUFgZn8hSKC-"
   }
  },
  {
   "cell_type": "code",
   "source": [],
   "metadata": {
    "id": "hPw5iFxjRsY-"
   },
   "execution_count": null,
   "outputs": []
  },
  {
   "cell_type": "markdown",
   "source": [
    "## Problem 3\n",
    "\n",
    "Write a for loop that calculates the summed value of array `x`.\n",
    "\n",
    "Note that we could use `np.sum(x)` but I want you to practice a for loop"
   ],
   "metadata": {
    "id": "kZwnwwEtadae"
   }
  },
  {
   "cell_type": "code",
   "source": [
    "x = np.array([10, 17, 21])\n",
    "\n"
   ],
   "metadata": {
    "id": "-JIHFtRRalF2"
   },
   "execution_count": null,
   "outputs": []
  },
  {
   "cell_type": "markdown",
   "source": [
    "## (Optional): Problem 4: Check if number is prime\n",
    "\n",
    "Given a numerical value of variable `num`, determine whether it is prime or not.\n",
    "\n",
    "Use the print function to report if the number is prime or not: print('Number is NOT prime')  or print('Number is prime').\n",
    "\n",
    "Check it's working by changing the value of `num`\n"
   ],
   "metadata": {
    "id": "k0kjcdfSaiUy"
   }
  },
  {
   "cell_type": "code",
   "source": [
    "num = 5\n",
    "\n"
   ],
   "metadata": {
    "id": "_cEgMAhDakwz"
   },
   "execution_count": null,
   "outputs": []
  },
  {
   "cell_type": "markdown",
   "source": [
    "# Section 2: Working with Spikes Part 3\n",
    "\n",
    "We're going to work with the same spike count data as in Session 2.\n",
    "\n",
    "We have an array called `spikes` with 1000 trials (rows). We have 1500 time bins (columns) and in each trial the reach movement onset happens at the 750th time bin.\n",
    "\n",
    "The reach movement on each trial is to one of 8 target options. We refer to these target options by the angle of the reach to them.  `trial_angles` is an array of shape (1000,). Each entry contains the reaching angle on that trial.\n",
    "\n",
    "The next cell loads in this data."
   ],
   "metadata": {
    "id": "FPXUkm0dW7No"
   }
  },
  {
   "cell_type": "code",
   "source": [
    "import numpy as np\n",
    "import matplotlib.pyplot as plt\n",
    "\n",
    "import requests\n",
    "import io\n",
    "\n",
    "r = requests.get('https://osf.io/m5tj3/download')\n",
    "spikes = np.load(io.BytesIO(r.content))\n",
    "\n",
    "r = requests.get('https://osf.io/af84k/download')\n",
    "trial_angles = np.load(io.BytesIO(r.content))\n",
    "\n",
    "\n",
    "dt = 0.001 # in seconds, each time bin is 1 ms"
   ],
   "metadata": {
    "id": "w7k05ux4XJ20"
   },
   "execution_count": null,
   "outputs": []
  },
  {
   "cell_type": "markdown",
   "source": [
    "In Session 2 exercises, we asked you to compute an average response of the neuron to reaches to angle 0. Specifically, we wanted to take the average spike count between time bins with index 500 to time bin with index 1000 across all trials where the monkey reached to angle 0. We then convert to spikes per second by dividing by dt.\n",
    "\n",
    "The following code implements this computation"
   ],
   "metadata": {
    "id": "BL1i9f-kXdRn"
   }
  },
  {
   "cell_type": "code",
   "source": [
    "np.mean(spikes[trial_angles==0, 500:1000])/dt"
   ],
   "metadata": {
    "colab": {
     "base_uri": "https://localhost:8080/"
    },
    "id": "ZW0BjnTJXJ6M",
    "outputId": "053e2374-8af5-43fe-c9a1-669c8bf4434a"
   },
   "execution_count": null,
   "outputs": [
    {
     "output_type": "execute_result",
     "data": {
      "text/plain": [
       "0.0"
      ]
     },
     "metadata": {},
     "execution_count": 5
    }
   ]
  },
  {
   "cell_type": "markdown",
   "source": [
    "We also got the unique reach angles using the `np.unique` function:"
   ],
   "metadata": {
    "id": "1-5eU3aQYYix"
   }
  },
  {
   "cell_type": "code",
   "source": [
    "unique_reach_angles = np.unique(trial_angles)\n",
    "unique_reach_angles"
   ],
   "metadata": {
    "colab": {
     "base_uri": "https://localhost:8080/"
    },
    "id": "QE3NdiAlYcNW",
    "outputId": "aa011a56-d3fd-4815-87e7-317253f9be75"
   },
   "execution_count": null,
   "outputs": [
    {
     "output_type": "execute_result",
     "data": {
      "text/plain": [
       "array([  0,  45,  90, 135, 180, 225, 270, 315], dtype=int32)"
      ]
     },
     "metadata": {},
     "execution_count": 6
    }
   ]
  },
  {
   "cell_type": "markdown",
   "source": [
    "We want to compute the neuron's mean response to each of the 8 reaching angles (using our computation from above). We can then plot how the neural response changes with reach angle. The following exercises will walk you through this but *challenge mode* if you have more prior coding experience is to try to do this with only the above information.\n"
   ],
   "metadata": {
    "id": "Q-4nnNuCZrn0"
   }
  },
  {
   "cell_type": "markdown",
   "source": [
    "\n",
    "1. We want to loop through the different reach angle options (to later compute the neural response to reaches to that angle). Create a for loop where you loop through the different reach angles. For now, print the reach angle on each loop."
   ],
   "metadata": {
    "id": "-4P_TYiZX4P-"
   }
  },
  {
   "cell_type": "code",
   "source": [],
   "metadata": {
    "id": "ym6C7J-2XJ9T"
   },
   "execution_count": null,
   "outputs": []
  },
  {
   "cell_type": "markdown",
   "source": [
    "2. Now, we want to add in our computation within this for loop. Copy and paste your code from Q1 below as a starting point. Now, instead of printing the reach angle on each loop, update your code so that you are computing the mean neural response to reaches to that angle. Print the mean neural response to each reach angle.\n",
    "\n",
    "Hint: You should be able to use some code from above\n",
    "\n"
   ],
   "metadata": {
    "id": "ZLDk4pVUZN3W"
   }
  },
  {
   "cell_type": "code",
   "source": [],
   "metadata": {
    "id": "dGvaMfWBZZXh"
   },
   "execution_count": null,
   "outputs": []
  },
  {
   "cell_type": "markdown",
   "source": [
    "3. Now, we need to store the information we're computing somewhere (otherwise it gets overwritten on each iteration of the loop). Let's create an array with the same number of entries as we have unique reach angles. The value of each of these entries can be 0 for now. Call this variable `firing_rate_per_angle`.\n",
    "\n",
    "Hint: You'll need to google to figure out how to create an array of zeros.\n",
    "\n"
   ],
   "metadata": {
    "id": "kmxAlbL5Zv_i"
   }
  },
  {
   "cell_type": "code",
   "source": [],
   "metadata": {
    "id": "KisRSYlJZ3oA"
   },
   "execution_count": null,
   "outputs": []
  },
  {
   "cell_type": "markdown",
   "source": [
    "4. Before getting back to the for loop, let's think about how we'd update an entry in `firing_rate_per_angle` to contain the neural response to a given angle. We want the first entry to reflect the mean neural response to angle 0 (since that is the first entry in `unique_reaching_angles`).\n",
    "\n",
    "Update the first entry of `firing_rate_per_angle` to reflect the mean neural response for reaches to angle 0."
   ],
   "metadata": {
    "id": "KJYRzukga9DB"
   }
  },
  {
   "cell_type": "code",
   "source": [],
   "metadata": {
    "id": "c_mo4BsIbMWJ"
   },
   "execution_count": null,
   "outputs": []
  },
  {
   "cell_type": "markdown",
   "source": [
    "5. Now put together your answers to Q2, Q3, and Q4 so that you are filling in `firing_rate_per_angle` within the for loop over reach angles. Each entry should contain the neural response to reaches to the angle that is in the corresponding entry in `unique_reaching_angles`\n",
    "\n"
   ],
   "metadata": {
    "id": "ffDfLlTbckch"
   }
  },
  {
   "cell_type": "code",
   "source": [],
   "metadata": {
    "id": "Xl5_M8gfc6S5"
   },
   "execution_count": null,
   "outputs": []
  },
  {
   "cell_type": "markdown",
   "source": [
    "6. Plot the firing rate of the neuron to different angles vs the angles. Don't forget to label axes and add a title!"
   ],
   "metadata": {
    "id": "YJ16qokQc6dB"
   }
  },
  {
   "cell_type": "code",
   "source": [],
   "metadata": {
    "id": "-AFib_Nec-R0"
   },
   "execution_count": null,
   "outputs": []
  },
  {
   "cell_type": "markdown",
   "source": [
    "# (Optional for additional practice) Section 3: Monty Hall Problem\n",
    "\n",
    "The Monty Hall problem is a well known probability puzzle with results that are counterintuitive to many. We are going to simulate the Monty Hall problem.\n",
    "\n",
    "The problem: You are on a game show and are faced with three doors. Behind one door is a car, behind the others are goats. Even though goats are cute, you want the car.\n",
    "\n",
    "The sequence of the game is:\n",
    "\n",
    "1. You pick a door (for example door 0).\n",
    "\n",
    "2. The host opens another door (door 1), which has a goat. Note that the host always opens a door with no prize (he will not reveal the car).\n",
    "\n",
    "3. The host then asks you if you want to stay with door 0 or switch to door 2. You get whatever is behind the door you choose.\n",
    "\n",
    "**Should you switch?** Discuss with your group what your strategy would be\n",
    "\n",
    "\n",
    "We can solve this analytically through probabilities but to practice our coding, let's simulate the game and see whether it's better to stay or switch. We will simulate 1000 versions of the game show and determine the best strategy (stay or switch).\n",
    "\n",
    "In our simulations, we will assume that the player always chooses to stay with their original door and will compute the percentage of the time they win with a stay strategy (you can subtract this quantity from 100 to get the percentage of time they will win with a switch strategy).\n",
    "\n",
    "**Challenge mode:** I walk you through the steps of creating a simulation in this section. If you want to think through the logic of the game yourself, feel free to complete this problem with just the information above!"
   ],
   "metadata": {
    "id": "Z9IENF_yAXTb"
   }
  },
  {
   "cell_type": "code",
   "source": [
    "# challenge mode here: figure out the percentage of time you'd win with a stay strategy"
   ],
   "metadata": {
    "id": "SOA_AafYDAWR"
   },
   "execution_count": null,
   "outputs": []
  },
  {
   "cell_type": "markdown",
   "source": [
    "## Setting up the game\n",
    "Let's first go through a single play of the game. We can loop over simulations later.\n",
    "\n",
    "To set up the game, we need to know which door has the prize behind it. Randomly choose one the doors (0, 1, or 2) and assign it as the prize door.\n",
    "\n",
    "Hint: you will use the numpy random library for this. Check out numpy randint: https://numpy.org/doc/stable/reference/random/generated/numpy.random.randint.html"
   ],
   "metadata": {
    "id": "NpLatCw3BF_Z"
   }
  },
  {
   "cell_type": "code",
   "source": [
    "# your code to choose a prize door here"
   ],
   "metadata": {
    "id": "E3zrIRrrBF0A"
   },
   "execution_count": null,
   "outputs": []
  },
  {
   "cell_type": "markdown",
   "source": [
    "## Player choice\n",
    "The player needs to decide on a door. Randomly choose one of the doors and assign it as the chosen door."
   ],
   "metadata": {
    "id": "p25iyXmnBOYv"
   }
  },
  {
   "cell_type": "code",
   "source": [
    "# your code to get the players choice of doors here"
   ],
   "metadata": {
    "id": "2oBiyb9fVCcH"
   },
   "execution_count": null,
   "outputs": []
  },
  {
   "cell_type": "markdown",
   "source": [
    "## Host reveal\n",
    "\n",
    "Next, the host will reveal one of the remaining doors that does not have a prize behind it. To do this, we need to choose a door that is not the chosen door nor the prize door. Assign this door as the revealed door.\n",
    "\n",
    "Note, I don't care about randomness here. For example, if the player chooses door 1 and it has the prize behind it, the host can always pick the first prize-free door (0) instead of randomly picking between doors 0 and 2."
   ],
   "metadata": {
    "id": "ijz_MLwhBSR0"
   }
  },
  {
   "cell_type": "code",
   "source": [
    "# your code for host reveal here"
   ],
   "metadata": {
    "id": "ruzyJzQPBSFx"
   },
   "execution_count": null,
   "outputs": []
  },
  {
   "cell_type": "markdown",
   "source": [
    "## Determining winner\n",
    "We need to figure out whether the player has won if they stay with their original door (i.e. whether that door has the prize)."
   ],
   "metadata": {
    "id": "PrivZ7QPCRB0"
   }
  },
  {
   "cell_type": "code",
   "source": [
    "# your code to determine if the player won\n"
   ],
   "metadata": {
    "id": "wQTA7F8-CKue"
   },
   "execution_count": null,
   "outputs": []
  },
  {
   "cell_type": "markdown",
   "source": [
    "## Putting it all together\n",
    "We've now coded one play of the game! Take all your\n",
    "previous code and put it together (i.e. copy and paste below). Now loop over it to generate 1000 simulations. Keep track of how many times the player wins by staying with their door."
   ],
   "metadata": {
    "id": "7RmjZaxHCUsw"
   }
  },
  {
   "cell_type": "code",
   "source": [
    "# your code to loop over simulations"
   ],
   "metadata": {
    "id": "wQcH5vPJCTCz"
   },
   "execution_count": null,
   "outputs": []
  },
  {
   "cell_type": "markdown",
   "source": [
    "Print the proportion of the time the player won over the 1000 simulations if they always chose to stay with their original door.\n"
   ],
   "metadata": {
    "id": "nehib7dgCZDM"
   }
  },
  {
   "cell_type": "code",
   "source": [
    "win_proportion = ... # your code here\n",
    "\n",
    "print(f'The proportion of wins is {win_proportion}')"
   ],
   "metadata": {
    "id": "upmW9jAfCZYY"
   },
   "execution_count": null,
   "outputs": []
  },
  {
   "cell_type": "markdown",
   "source": [
    "If you played this game, would you stay or switch?"
   ],
   "metadata": {
    "id": "Vq8e4JMXCbJ7"
   }
  },
  {
   "cell_type": "code",
   "source": [],
   "metadata": {
    "id": "q-JrwF3eTkRe"
   },
   "execution_count": null,
   "outputs": []
  }
 ]
}