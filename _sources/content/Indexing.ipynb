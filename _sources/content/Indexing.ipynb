{
 "metadata": {
  "kernelspec": {
   "name": "python3",
   "display_name": "Python 3 (ipykernel)",
   "language": "python"
  },
  "colab": {
   "provenance": []
  }
 },
 "nbformat": 4,
 "nbformat_minor": 0,
 "cells": [
  {
   "cell_type": "markdown",
   "source": [
    "# Indexing"
   ],
   "metadata": {
    "id": "-RwdOhseR57X"
   }
  },
  {
   "cell_type": "code",
   "execution_count": null,
   "metadata": {
    "id": "aBwOWff_RB58"
   },
   "outputs": [],
   "source": [
    "import numpy as np"
   ]
  },
  {
   "cell_type": "markdown",
   "metadata": {
    "id": "kQfExATzRB5_"
   },
   "source": [
    "Let's first create this array\n",
    "\n",
    "![picture](https://raw.githubusercontent.com/ebatty/CodingBootcamp/master/images/array.png)"
   ]
  },
  {
   "cell_type": "code",
   "execution_count": null,
   "metadata": {
    "id": "L5pXSATpRB6A"
   },
   "outputs": [],
   "source": [
    "x = np.array([[4, 2, 1, 3], [1, 0, 3, 5], [6, 7, 8, 2]])"
   ]
  },
  {
   "cell_type": "markdown",
   "metadata": {
    "id": "D45Z3V-GRB6B"
   },
   "source": [
    "We can grab specific data points using:\n",
    "\n",
    "`x[row index, column index]`"
   ]
  },
  {
   "cell_type": "code",
   "execution_count": null,
   "metadata": {
    "id": "YTOiN9z5RB6B",
    "outputId": "92816fbc-0776-4a33-e8f5-e3ddcbb7b2e8"
   },
   "outputs": [
    {
     "data": {
      "text/plain": "7"
     },
     "execution_count": 3,
     "metadata": {},
     "output_type": "execute_result"
    }
   ],
   "source": [
    "x[2, 1]"
   ]
  },
  {
   "cell_type": "markdown",
   "metadata": {
    "id": "T-qBE065RB6C"
   },
   "source": [
    "We can grab multiple column values in one row with:\n",
    "```\n",
    "x[row index, start index:stop index*]\n",
    "```\n",
    "\n",
    "\\* not inclusive of stop index"
   ]
  },
  {
   "cell_type": "code",
   "execution_count": null,
   "metadata": {
    "id": "Kejkt4UNRB6D",
    "outputId": "fc47b961-4ef4-4e43-e6f0-e88dcb17f739"
   },
   "outputs": [
    {
     "data": {
      "text/plain": "array([2, 1])"
     },
     "execution_count": 4,
     "metadata": {},
     "output_type": "execute_result"
    }
   ],
   "source": [
    "x[0, 1:3]"
   ]
  },
  {
   "cell_type": "markdown",
   "source": [
    "We can skip over certain rows/columns with a step count:\n",
    "\n",
    "`x[row index, start index:stop index:step count]`\n",
    "\n",
    "will get columns from start index up to but not including stop index, skipping every step count.\n",
    "\n",
    "In other words, x[0, 0:4:2] would get every second column from column with index 0 to column with index 4 (so columns 0 and 2)."
   ],
   "metadata": {
    "id": "IiqnxF1ecz65"
   }
  },
  {
   "cell_type": "markdown",
   "metadata": {
    "id": "9poaVYc2RB6D"
   },
   "source": [
    "We can overwrite subsets of our array."
   ]
  },
  {
   "cell_type": "code",
   "execution_count": null,
   "metadata": {
    "id": "lkT24GvkRB6E"
   },
   "outputs": [],
   "source": [
    "x[0, 0] = 100"
   ]
  },
  {
   "cell_type": "code",
   "execution_count": null,
   "metadata": {
    "id": "hczm6r37RB6E",
    "outputId": "59b96d02-8fb4-49a8-dee0-65e281210884"
   },
   "outputs": [
    {
     "data": {
      "text/plain": "array([[100,   2,   1,   3],\n       [  1,   0,   3,   5],\n       [  6,   7,   8,   2]])"
     },
     "execution_count": 6,
     "metadata": {},
     "output_type": "execute_result"
    }
   ],
   "source": [
    "x"
   ]
  },
  {
   "cell_type": "code",
   "execution_count": null,
   "metadata": {
    "id": "zjiLSDpjRB6F"
   },
   "outputs": [],
   "source": [
    "x[0, :] = 100"
   ]
  },
  {
   "cell_type": "code",
   "execution_count": null,
   "metadata": {
    "id": "aLqMRBiERB6F",
    "outputId": "9278ac9d-0aee-4a02-cebd-fd9dbc70c8d9"
   },
   "outputs": [
    {
     "data": {
      "text/plain": "array([[100, 100, 100, 100],\n       [  1,   0,   3,   5],\n       [  6,   7,   8,   2]])"
     },
     "execution_count": 8,
     "metadata": {},
     "output_type": "execute_result"
    }
   ],
   "source": [
    "x"
   ]
  },
  {
   "cell_type": "code",
   "source": [],
   "metadata": {
    "id": "CdjKm3FXR3Xs"
   },
   "execution_count": null,
   "outputs": []
  }
 ]
}