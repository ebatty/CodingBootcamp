{
 "nbformat": 4,
 "nbformat_minor": 0,
 "metadata": {
  "colab": {
   "provenance": [],
   "toc_visible": true,
   "authorship_tag": "ABX9TyMLa4+bCptN2hK93/Od6bHe"
  },
  "kernelspec": {
   "name": "python3",
   "display_name": "Python 3"
  },
  "language_info": {
   "name": "python"
  }
 },
 "cells": [
  {
   "cell_type": "markdown",
   "source": [
    "# Session 2 Asynchronous Version\n",
    "\n",
    "Hello! This page is designed for SURFIN fellows who were unable to make the live session of the coding bootcamp on 10/05. It'll take you through the concepts we learned and exercises we did.\n",
    "\n",
    "There are 3 help sessions a week on zoom (see emails/slack for zoom link):\n",
    "\n",
    "*   Mondays at 6 pm EST\n",
    "*   Tuesdays at 9 am EST\n",
    "*   Thursdays at 1 pm EST\n",
    "\n",
    "\n",
    "\n",
    "\n",
    "\n",
    "\n",
    "\n",
    "We highly recommend dropping by one of these help sessions to work through the exercises or clarify concepts if you miss a live session! You don't need specific questions to show up - you can just come and work through content in the zoom room so you can ask questions as you go.\n",
    "\n",
    "Before proceeding, please make sure you've watch the two videos students were expected to watch ahead of the live session:\n",
    "\n",
    "1. [Using Functions](https://ebatty.github.io/CodingBootcamp/content/UsingFunctions.html)\n",
    "2. [Conditional and Logical Operators](https://ebatty.github.io/CodingBootcamp/content/ComparisonandLogicalOperators.html)\n",
    "\n"
   ],
   "metadata": {
    "id": "XUD_rsmICrtq"
   }
  },
  {
   "cell_type": "markdown",
   "source": [
    "## Section 1: Session 1 Exercise Recap & Boolean Indexing\n",
    "\n",
    "First, please watch the first 23 minutes of our recorded live session.\n",
    "\n",
    "[Click here for recording](https://us06web.zoom.us/rec/share/9H9aYtAbEb2bggxtLZvBW3-GZlSEEbAiZwfIDkk57ukq1vI82cBNQ3fvhFgb7J7x.iPGpCCaCRVtIITru)\n",
    "\n",
    "Please check email/slack for the passcode for the recording.\n",
    "\n",
    "[Here](https://ebatty.github.io/CodingBootcamp/content/BooleanIndexing.html) are notes on Boolean indexing for review"
   ],
   "metadata": {
    "id": "udBM_qHIDSad"
   }
  },
  {
   "cell_type": "markdown",
   "source": [
    "### Exercise 1\n",
    "\n",
    "Try out [Working with Spikes Data Part 2](https://ebatty.github.io/CodingBootcamp/content/Session2_Exercises.html) at least through question 7. Remember to come to a help session to work through it if you get stuck!"
   ],
   "metadata": {
    "id": "txGPXEu3WIDh"
   }
  },
  {
   "cell_type": "markdown",
   "source": [
    "## Section 2: Plotting\n",
    "\n",
    "Next, watch from 23:00 to the end of the recording from the live session:\n",
    "\n",
    "[Click here for recording](https://us06web.zoom.us/rec/share/9H9aYtAbEb2bggxtLZvBW3-GZlSEEbAiZwfIDkk57ukq1vI82cBNQ3fvhFgb7J7x.iPGpCCaCRVtIITru)\n",
    "\n",
    "Please check email/slack for the passcode for the recording.\n",
    "\n",
    "[Here](https://ebatty.github.io/CodingBootcamp/content/Plotting.html) are notes on Plotting for review"
   ],
   "metadata": {
    "id": "3tFo9ngSD6WH"
   }
  },
  {
   "cell_type": "markdown",
   "source": [
    "### Exercise 2\n",
    "\n",
    "Now, try to figure out the secret in mystery array 1 in the [Mystery Array exercise](https://ebatty.github.io/CodingBootcamp/content/Session2_Exercises.html)."
   ],
   "metadata": {
    "id": "TJQeCccnEBJF"
   }
  }
 ]
}