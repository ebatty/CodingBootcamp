{
  "nbformat": 4,
  "nbformat_minor": 0,
  "metadata": {
    "colab": {
      "provenance": [],
      "toc_visible": true,
      "authorship_tag": "ABX9TyONVGyuoGcJbF9FoKj6HfmV",
      "include_colab_link": true
    },
    "kernelspec": {
      "name": "python3",
      "display_name": "Python 3"
    },
    "language_info": {
      "name": "python"
    }
  },
  "cells": [
    {
      "cell_type": "markdown",
      "metadata": {
        "id": "view-in-github",
        "colab_type": "text"
      },
      "source": [
        "<a href=\"https://colab.research.google.com/github/ebatty/CodingBootcamp/blob/main/content/Session2_Exercises.ipynb\" target=\"_parent\"><img src=\"https://colab.research.google.com/assets/colab-badge.svg\" alt=\"Open In Colab\"/></a>"
      ]
    },
    {
      "cell_type": "markdown",
      "source": [
        "# Session 2 Exercises\n",
        "\n",
        "\n",
        "## Your name here"
      ],
      "metadata": {
        "id": "Y_R_LfRdG90o"
      }
    },
    {
      "cell_type": "code",
      "source": [],
      "metadata": {
        "id": "R6oyQkPPHBbK"
      },
      "execution_count": null,
      "outputs": []
    },
    {
      "cell_type": "code",
      "source": [],
      "metadata": {
        "id": "QEHL8PczHBeU"
      },
      "execution_count": null,
      "outputs": []
    },
    {
      "cell_type": "code",
      "source": [],
      "metadata": {
        "id": "yM_hvFE9HBhp"
      },
      "execution_count": null,
      "outputs": []
    },
    {
      "cell_type": "markdown",
      "source": [
        "# Image Manipulation\n",
        "\n",
        "The next cell automatically downloads the image (file name dog.jpg) and loads it in directly as numpy array img.\n",
        "Loading in data that exists locally (if you are using a jupyter notebook for example) isn’t as complicated.\n",
        "\n",
        "You could use plt.imread('dog.jpg', format = 'jpg') If you’d like to download the data locally, you can get it from https://osf.io/35azg/."
      ],
      "metadata": {
        "id": "RMStdNDvIHj4"
      }
    },
    {
      "cell_type": "code",
      "source": [
        "# weird code you can ignore for now\n",
        "\n",
        "import requests\n",
        "import io\n",
        "import matplotlib.pyplot as plt\n",
        "import numpy as np\n",
        "\n",
        "r = requests.get('https://osf.io/35azg/download')\n",
        "\n",
        "img = plt.imread(io.BytesIO(r.content), format = 'jpg')\n"
      ],
      "metadata": {
        "id": "NHZEuQzfILOC"
      },
      "execution_count": null,
      "outputs": []
    },
    {
      "cell_type": "markdown",
      "source": [
        "1. Print the entry in the third row and second column of the image"
      ],
      "metadata": {
        "id": "6WWTjgpEIhS8"
      }
    },
    {
      "cell_type": "code",
      "source": [],
      "metadata": {
        "id": "O6TF7NSgIiOq"
      },
      "execution_count": null,
      "outputs": []
    },
    {
      "cell_type": "markdown",
      "source": [
        "2. Print the second row of the image"
      ],
      "metadata": {
        "id": "SSCvYyDTIifL"
      }
    },
    {
      "cell_type": "code",
      "source": [],
      "metadata": {
        "id": "55dqiaKQIvL_"
      },
      "execution_count": null,
      "outputs": []
    },
    {
      "cell_type": "markdown",
      "source": [
        "3. Make the element in row 1 and column 2 equal to 0."
      ],
      "metadata": {
        "id": "CxMWa-cVJm6v"
      }
    },
    {
      "cell_type": "code",
      "source": [
        "# First let's copy the image so we don't overwrite our original image\n",
        "new_img = img.copy()\n"
      ],
      "metadata": {
        "id": "ffnOor0wJtdy"
      },
      "execution_count": null,
      "outputs": []
    },
    {
      "cell_type": "markdown",
      "source": [
        "4. Create a new version of img where the 20 columns on the left and right edge of the image are equal to the minimum of the image.\n",
        "\n",
        "This is a little tricky! Try to break the problem down into smaller steps. You do not need to use one line of code."
      ],
      "metadata": {
        "id": "tkkaf2zAIvXd"
      }
    },
    {
      "cell_type": "code",
      "source": [
        "# First let's copy the image so we don't overwrite our original image\n",
        "new_img = img.copy()\n",
        "\n",
        "# your code here\n",
        "\n",
        "plt.imshow(new_img, cmap = 'gray')"
      ],
      "metadata": {
        "id": "RhKs0ivHI2hZ"
      },
      "execution_count": null,
      "outputs": []
    },
    {
      "cell_type": "markdown",
      "source": [
        "**The following questions are more advanced and super optional.**"
      ],
      "metadata": {
        "id": "I5qLLCTOJA6d"
      }
    },
    {
      "cell_type": "markdown",
      "source": [
        "5. Create a new array containing two copies of Leo side by side using `np.concatenate`. We haven't shown you this command - take a look at the function documentation to help figure it out: https://numpy.org/doc/stable/reference/generated/numpy.concatenate.html.\n"
      ],
      "metadata": {
        "id": "B6bow-BrJHor"
      }
    },
    {
      "cell_type": "code",
      "source": [
        "horiz_img = ...\n",
        "\n",
        "plt.imshow(horiz_img, cmap = 'gray')"
      ],
      "metadata": {
        "id": "TfgDaLZZJXSw"
      },
      "execution_count": null,
      "outputs": []
    },
    {
      "cell_type": "markdown",
      "source": [
        "6. It's snowing! Let's add some noise to the image and see what it looks like. Create an array the same size as img but containing uniformly distributed random numbers between 0 and 40. Add this noise to img and store as noisy_img. Type the line of code.\n",
        "Hint: check out the documentation for https://numpy.org/doc/stable/reference/random/generated/numpy.random.uniform.html\n",
        "\n",
        "\n",
        "\n",
        "\n",
        "\n"
      ],
      "metadata": {
        "id": "KTMXssnxKt0L"
      }
    },
    {
      "cell_type": "code",
      "source": [
        "np.random.seed(0)\n",
        "\n",
        "noisy_img = ...\n",
        "\n",
        "plt.imshow(noisy_img, cmap = 'gray')"
      ],
      "metadata": {
        "id": "XzczpHtmKv1y"
      },
      "execution_count": null,
      "outputs": []
    },
    {
      "cell_type": "markdown",
      "source": [
        "# Mystery arrays"
      ],
      "metadata": {
        "id": "eA7VogTgCGeg"
      }
    },
    {
      "cell_type": "markdown",
      "source": [
        "The cell below loads in mystery data into an array called `x`. Try to figure out the \"secret\" contained in this data by plotting it in different ways."
      ],
      "metadata": {
        "id": "7zPNltTTVM6B"
      }
    },
    {
      "cell_type": "code",
      "source": [
        "import requests\n",
        "import io\n",
        "\n",
        "r = requests.get('https://osf.io/3sd2p/download')\n",
        "\n",
        "x = np.load(io.BytesIO(r.content))"
      ],
      "metadata": {
        "id": "advrVyNACH1M"
      },
      "execution_count": null,
      "outputs": []
    },
    {
      "cell_type": "code",
      "source": [
        "# @markdown Click here for hint\n",
        "\n",
        "\"\"\"\n",
        "Imagine the different rows are different data points.\n",
        "The two columns are different features about each data point.\n",
        "For example, each row might be a different human. Column 1 contains\n",
        "amount of chocolate eaten monthly and the second column\n",
        "contains a measure of happiness. What might you want to plot?\n",
        "\"\"\""
      ],
      "metadata": {
        "id": "1p-7NCLhGNmc",
        "cellView": "form"
      },
      "execution_count": null,
      "outputs": []
    },
    {
      "cell_type": "code",
      "source": [],
      "metadata": {
        "id": "iFzf8oZ8GPXO"
      },
      "execution_count": null,
      "outputs": []
    },
    {
      "cell_type": "markdown",
      "source": [
        "What is the secret in this data?"
      ],
      "metadata": {
        "id": "WYtjHYYraN2-"
      }
    },
    {
      "cell_type": "markdown",
      "source": [
        "Your answer here"
      ],
      "metadata": {
        "id": "ImdqD_mpaPqq"
      }
    },
    {
      "cell_type": "markdown",
      "source": [
        "# Working with Spikes Data Part 2"
      ],
      "metadata": {
        "id": "z_amINDW414g"
      }
    },
    {
      "cell_type": "markdown",
      "source": [
        "Recall Working with Spikes Data from the previous session:\n",
        "\n",
        "You worked with an array of spikes counts where the rows were different trials, the columns are different time bins, and the entries were the spike counts during that time bin in that trial. Each time bin is 1 ms.\n",
        "\n",
        "This data was simulated but mimicked a situation where a monkey was performing a task where they make repeated reaching movements to the same target. The data was \"recorded\" from a neuron in the monkey's motor cortex.\n",
        "\n",
        "\n",
        "We are going to work with data in the same format again. We again have an array called `spikes`, but now we have 1000 trials. We have 1500 time bins and in each trial the reach movement onset happens at the 750th time bin.\n",
        "\n",
        "The only change is that the reach movement on each trial will be to one of 8 target options, instead of the same target each time. We are going to refer to these target options by the angle of the reach to them.  `trial_angles` is an array of shape (1000,). Each entry contains the reaching angle on that trial.\n",
        "\n",
        "The next cell loads in this data."
      ],
      "metadata": {
        "id": "1ahxcL8X5MU3"
      }
    },
    {
      "cell_type": "code",
      "source": [
        "import numpy as np\n",
        "import matplotlib.pyplot as plt\n",
        "\n",
        "import requests\n",
        "import io\n",
        "\n",
        "r = requests.get('https://osf.io/m5tj3/download')\n",
        "spikes = np.load(io.BytesIO(r.content))\n",
        "\n",
        "r = requests.get('https://osf.io/af84k/download')\n",
        "trial_angles = np.load(io.BytesIO(r.content))\n",
        "\n",
        "\n",
        "dt = 0.001 # in seconds, each time bin is 1 ms"
      ],
      "metadata": {
        "id": "mCtpaVUq5MGm"
      },
      "execution_count": null,
      "outputs": []
    },
    {
      "cell_type": "markdown",
      "source": [
        "1. Use Boolean indexing to get the trials where the monkey was reaching to a target at 0 degrees. Save this array as a variable called `spikes_0`.\n",
        "\n"
      ],
      "metadata": {
        "id": "LFqZkIFg8PeM"
      }
    },
    {
      "cell_type": "code",
      "source": [],
      "metadata": {
        "id": "4V2xrrvN9lYd"
      },
      "execution_count": null,
      "outputs": []
    },
    {
      "cell_type": "markdown",
      "source": [
        "2. There should be 125 trials with a reach to angle of 0, so the array from Q1 should be 125 by 1500. Check the shape of `spikes_0` to make sure it is correct!"
      ],
      "metadata": {
        "id": "VUYAxbC-9_mE"
      }
    },
    {
      "cell_type": "code",
      "source": [],
      "metadata": {
        "id": "beosCWOC90ju"
      },
      "execution_count": null,
      "outputs": []
    },
    {
      "cell_type": "markdown",
      "source": [
        "3. Compute the average firing rate over time of this neuron during trials to angle 0 (i.e. the average spike count per time bin). No need to convert to spikes per second, you can leave as spikes per time bin.\n",
        "\n",
        "Hint: you did this in the session 1 exercises Q4"
      ],
      "metadata": {
        "id": "RMKRWy5C-FKH"
      }
    },
    {
      "cell_type": "code",
      "source": [],
      "metadata": {
        "id": "HJAX3Lqg91j5"
      },
      "execution_count": null,
      "outputs": []
    },
    {
      "cell_type": "markdown",
      "source": [
        "4. Plot the average firing rate over time of this neuron during trials to angle 0. Label the x and y axis and add a title."
      ],
      "metadata": {
        "id": "IkC-8FKX-wXA"
      }
    },
    {
      "cell_type": "code",
      "source": [],
      "metadata": {
        "id": "mfIDVKuv_JXy"
      },
      "execution_count": null,
      "outputs": []
    },
    {
      "cell_type": "markdown",
      "source": [
        "5. (Text answer) What happens to the activity of this neuron around movement reach onset (which happens at the 750th time bin)"
      ],
      "metadata": {
        "id": "1EbBZhrb_QX6"
      }
    },
    {
      "cell_type": "markdown",
      "source": [
        "Click to answer here"
      ],
      "metadata": {
        "id": "8f3DHY7iLSdV"
      }
    },
    {
      "cell_type": "markdown",
      "source": [
        "6. We want to compute a single number that summarizes the neural firing rate during reaches to this angle. We only want to consider the time period immediately around the movement onset, so in time bins 500 up to 1000. Can you figure out how to get the average spike count in time bins 500 up to 1000 across all trials to reach angle of 0? Try to do it in 1 to 2 lines of code, starting with the original `spikes` data.\n",
        "\n"
      ],
      "metadata": {
        "id": "FYwRUp3E_c2i"
      }
    },
    {
      "cell_type": "code",
      "source": [],
      "metadata": {
        "id": "B4xA1vZs_LoA"
      },
      "execution_count": null,
      "outputs": []
    },
    {
      "cell_type": "markdown",
      "source": [
        "(Optional) 7. What is the single average firing rate in spikes per second for trials where the reach is to angle 135?"
      ],
      "metadata": {
        "id": "E6HiRi4XArC1"
      }
    },
    {
      "cell_type": "code",
      "source": [],
      "metadata": {
        "id": "_caJLERTAlWt"
      },
      "execution_count": null,
      "outputs": []
    },
    {
      "cell_type": "markdown",
      "source": [
        "(Optional) 8. (Text answer) Given the two numbers in Q8 and 9, do you think this neuron's activity could be correlated with (i.e. varies with) the direction of reach?"
      ],
      "metadata": {
        "id": "f8Olqmq7BjsK"
      }
    }
  ]
}