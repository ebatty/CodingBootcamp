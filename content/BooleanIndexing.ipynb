{
  "nbformat": 4,
  "nbformat_minor": 0,
  "metadata": {
    "colab": {
      "provenance": [],
      "authorship_tag": "ABX9TyNv85QkxDkEHpD/7OiOVHol"
    },
    "kernelspec": {
      "name": "python3",
      "display_name": "Python 3"
    },
    "language_info": {
      "name": "python"
    }
  },
  "cells": [
    {
      "cell_type": "markdown",
      "source": [
        "# Boolean Indexing\n",
        "\n",
        "Since this video didn't render correctly and I realized too late to ask you to watch it, we'll cover this content in class instead."
      ],
      "metadata": {
        "id": "bbDDf_NWnFCt"
      }
    },
    {
      "cell_type": "code",
      "execution_count": null,
      "metadata": {
        "id": "SOWxeODinEUv"
      },
      "outputs": [],
      "source": []
    }
  ]
}