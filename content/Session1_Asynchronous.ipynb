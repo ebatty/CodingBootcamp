{
  "nbformat": 4,
  "nbformat_minor": 0,
  "metadata": {
    "colab": {
      "provenance": [],
      "toc_visible": true,
      "authorship_tag": "ABX9TyM86oOQtpOss9yR9uuyblVV"
    },
    "kernelspec": {
      "name": "python3",
      "display_name": "Python 3"
    },
    "language_info": {
      "name": "python"
    }
  },
  "cells": [
    {
      "cell_type": "markdown",
      "source": [
        "# Session 1 Asynchronous Version\n",
        "\n",
        "Hello! This page is designed for SURFIN fellows who were unable to make the live session of the coding bootcamp on 09/28. It'll take you through the concepts we learned and exercises we did.\n",
        "\n",
        "There are 3 help sessions a week on zoom (see emails/slack for zoom link):\n",
        "\n",
        "*   Mondays at 6 pm EST\n",
        "*   Tuesdays at 9 am EST\n",
        "*   Thursdays at 1 pm EST\n",
        "\n",
        "\n",
        "\n",
        "\n",
        "\n",
        "\n",
        "\n",
        "We highly recommend dropping by one of these help sessions to work through the exercises or clarify concepts if you miss a live session! You don't need specific questions to show up - you can just come and work through content in the zoom room so you can ask questions as you go.\n",
        "\n",
        "Before proceeding, please make sure you've watch the three videos students were expected to watch ahead of the live session:\n",
        "\n",
        "1. [Variables](https://youtu.be/DKV78n0cHog?si=5mf3dMLxxEncUhxf)\n",
        "2. [Math Operators](https://youtu.be/Dv96O72prMA?si=OXDBt4y9zlAoCIPZ)\n",
        "3. [Intro to Arrays](https://youtu.be/JwktGYpaZnc?si=FuxdDsUgB4eckXQD)\n"
      ],
      "metadata": {
        "id": "XUD_rsmICrtq"
      }
    },
    {
      "cell_type": "markdown",
      "source": [
        "## Section 1: Welcome to the bootcamp & coding\n",
        "\n",
        "First, please watch the recording below of the first 30 minutes of the live session. In it, I explain:\n",
        "* information about the bootcamp\n",
        "* why you might want to learn to code\n",
        "* general steps for coding\n",
        "* the coding environment we will use\n",
        "\n",
        "[Click here for recording](https://us06web.zoom.us/rec/share/RnzfAj6bDQgT5ziD9v33vSBqJN7C5dNzySaT15p1j0c-ml-vP-skFdXLJyE9DNf5.ikWAv3fVHD4p0NPI)\n",
        "\n",
        "Please check email/slack for the passcode for the recording"
      ],
      "metadata": {
        "id": "udBM_qHIDSad"
      }
    },
    {
      "cell_type": "markdown",
      "source": [
        "## Section 2: Review of variables/operators"
      ],
      "metadata": {
        "id": "dmxmrFVID1kD"
      }
    },
    {
      "cell_type": "markdown",
      "source": [
        "I'm going to ask you a few questions that I posed during the live session. Try to think of your answer to each one before moving on!"
      ],
      "metadata": {
        "id": "rFvikhDrOdTW"
      }
    },
    {
      "cell_type": "markdown",
      "source": [
        "```{dropdown} Click here for Question 1\n",
        "\n",
        "\n",
        "What is this code doing?\n",
        "\n",
        "```{code-block} python\n",
        "x = 50\n",
        "y = (x - 32) * 5/9\n",
        "print(y)\n",
        "```\n",
        "\n",
        "```\n"
      ],
      "metadata": {
        "id": "Dy7rr5jeESLY"
      }
    },
    {
      "cell_type": "markdown",
      "source": [
        "```{dropdown} Click here for Question 2\n",
        "\n",
        "What is this code doing?\n",
        "\n",
        "```\n",
        "degrees_F = 50\n",
        "degrees_C = (degrees_F - 32) * 5/9\n",
        "print(degrees_C)\n",
        "```\n",
        "\n",
        "```\n"
      ],
      "metadata": {
        "id": "joZItckKObmA"
      }
    },
    {
      "cell_type": "markdown",
      "source": [
        "Compare your answers to question 1 and 2. You'll probably see that you were much better able to quickly summarize the core computation happening in question 2. The only difference between these two code snippets is the variable names!\n",
        "\n",
        "**Choosing informative variable names has a huge impact on the readability of your code.** Making your code readable will help future you - if you come back to code you've written two weeks later, you want to be able to quickly remember what it's doing."
      ],
      "metadata": {
        "id": "hji8OVPPO53S"
      }
    },
    {
      "cell_type": "markdown",
      "source": [
        "```{dropdown} Click here for Question 3\n",
        "\n",
        "\n",
        "What will c equal? Don't use code to figure it out\n",
        "\n",
        "```\n",
        "a = 4\n",
        "b = a**2/2\n",
        "c = (a+b)*2\n",
        "```\n",
        "\n",
        "```"
      ],
      "metadata": {
        "id": "JggILD_qPdGR"
      }
    },
    {
      "cell_type": "markdown",
      "source": [],
      "metadata": {
        "id": "kdSqhbadPks5"
      }
    },
    {
      "cell_type": "markdown",
      "source": [
        "```{dropdown} Click here for soluton to Question 3\n",
        "\n",
        "Double asterisks are the Python operator for raising to a power. So, a ** 2 is four squared, which is 16. The / operator represents division so a ** 2/2 is 16/2, which is 8. So b will have a value of 8.\n",
        "\n",
        "Then, we do (a+b) = (4 + 8) = 12. * is the multiplication operator, so c equals 12 * 2, or 24.\n",
        "\n",
        "```"
      ],
      "metadata": {
        "id": "FEyfLsVaPkzv"
      }
    },
    {
      "cell_type": "markdown",
      "source": [
        "## Section 3: Array Computations\n",
        "\n",
        "During the live session, I gave a short lecture on array computations. Instead of sharing the recording, I'm going to share a more polished video that covers the same content. Please watch the video embedded below. There are some \"Coding Challenges\" throughout the video - try these out youself as you watch!\n",
        "\n",
        "[Click here to check out notes on array computations to accompany the video](https://ebatty.github.io/CodingBootcamp/content/ArrayComputations.html)"
      ],
      "metadata": {
        "id": "3tFo9ngSD6WH"
      }
    },
    {
      "cell_type": "code",
      "source": [
        "#@markdown\n",
        "from IPython.display import YouTubeVideo\n",
        "video = YouTubeVideo(id=\"h_KYkTFkfNw\", width=854, height=480, fs=1)\n",
        "print(\"Video available at https://youtube.com/watch?v=\" + video.id)\n",
        "video"
      ],
      "metadata": {
        "id": "hoApOrMVD71w",
        "colab": {
          "base_uri": "https://localhost:8080/",
          "height": 519
        },
        "cellView": "form",
        "outputId": "0b35a32d-30fb-4c23-9ae5-b0de9f96de3f"
      },
      "execution_count": null,
      "outputs": [
        {
          "output_type": "stream",
          "name": "stdout",
          "text": [
            "Video available at https://youtube.com/watch?v=h_KYkTFkfNw\n"
          ]
        },
        {
          "output_type": "execute_result",
          "data": {
            "text/plain": [
              "<IPython.lib.display.YouTubeVideo at 0x7fee9612fbb0>"
            ],
            "text/html": [
              "\n",
              "        <iframe\n",
              "            width=\"854\"\n",
              "            height=\"480\"\n",
              "            src=\"https://www.youtube.com/embed/h_KYkTFkfNw?fs=1\"\n",
              "            frameborder=\"0\"\n",
              "            allowfullscreen\n",
              "            \n",
              "        ></iframe>\n",
              "        "
            ],
            "image/jpeg": "[encoded data removed]"
          },
          "metadata": {},
          "execution_count": 1
        }
      ]
    },
    {
      "cell_type": "markdown",
      "source": [
        "### Exercise 1: Working with Spikes\n",
        "\n",
        "After this lecture, students spent some time working in small groups on an exercise practicing using array computations with a spike counts matrix, called Working with Spike Data.\n",
        "\n",
        "[Click here for Working with Spike Data exercise](https://ebatty.github.io/CodingBootcamp/content/Session1_Exercises.html).\n",
        "\n",
        "Try working through the exercise! Remember to launch the page in Colab and save your own copy (shown in Section 1 recording). I highly recommend you work through the exercises at a help session so you can ask questions as you get stuck."
      ],
      "metadata": {
        "id": "TJQeCccnEBJF"
      }
    },
    {
      "cell_type": "markdown",
      "source": [
        "## Section 4: Indexing\n",
        "\n",
        "During the live session, I gave a short lecture on indexing. Instead of sharing the recording, I'm going to share a more polished video that covers the same content. Please watch the video embedded below.\n",
        "\n",
        "[Click here for notes on indexing](https://ebatty.github.io/CodingBootcamp/content/Indexing.html)"
      ],
      "metadata": {
        "id": "W11kv9SgD8XT"
      }
    },
    {
      "cell_type": "code",
      "source": [
        "#@markdown\n",
        "from IPython.display import YouTubeVideo\n",
        "video = YouTubeVideo(id=\"eqSlhR7_jbA\", width=854, height=480, fs=1)\n",
        "print(\"Video available at https://youtube.com/watch?v=\" + video.id)\n",
        "video"
      ],
      "metadata": {
        "colab": {
          "base_uri": "https://localhost:8080/",
          "height": 519
        },
        "cellView": "form",
        "id": "_toO-VEbNWqf",
        "outputId": "4a72be78-ddc6-417f-b6e0-65b105509e59"
      },
      "execution_count": null,
      "outputs": [
        {
          "output_type": "stream",
          "name": "stdout",
          "text": [
            "Video available at https://youtube.com/watch?v=eqSlhR7_jbA\n"
          ]
        },
        {
          "output_type": "execute_result",
          "data": {
            "text/plain": [
              "<IPython.lib.display.YouTubeVideo at 0x7fee9612e980>"
            ],
            "text/html": [
              "\n",
              "        <iframe\n",
              "            width=\"854\"\n",
              "            height=\"480\"\n",
              "            src=\"https://www.youtube.com/embed/eqSlhR7_jbA?fs=1\"\n",
              "            frameborder=\"0\"\n",
              "            allowfullscreen\n",
              "            \n",
              "        ></iframe>\n",
              "        "
            ],
            "image/jpeg": "[encoded data removed]"
          },
          "metadata": {},
          "execution_count": 2
        }
      ]
    },
    {
      "cell_type": "markdown",
      "source": [
        "### Exercise 2: Image Manipulation\n",
        "\n",
        "While we did not have time during the live session for our second exercise on Image Manipulation, I'd like everyone to try out at least the first three parts on your own before the next session. Come to a help session if you get stuck!\n",
        "\n",
        "[Click here for Image Manipulation exercise](https://ebatty.github.io/CodingBootcamp/content/Session1_Exercises.html)."
      ],
      "metadata": {
        "id": "c-5mZ20mEEZU"
      }
    }
  ]
}