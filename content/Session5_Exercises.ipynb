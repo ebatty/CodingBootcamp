{
  "nbformat": 4,
  "nbformat_minor": 0,
  "metadata": {
    "colab": {
      "provenance": [],
      "authorship_tag": "ABX9TyMe0FfKiOti7/dbll6DM91p",
      "include_colab_link": true
    },
    "kernelspec": {
      "name": "python3",
      "display_name": "Python 3"
    },
    "language_info": {
      "name": "python"
    }
  },
  "cells": [
    {
      "cell_type": "markdown",
      "metadata": {
        "id": "view-in-github",
        "colab_type": "text"
      },
      "source": [
        "<a href=\"https://colab.research.google.com/github/ebatty/CodingBootcamp/blob/main/content/Session5_Exercises.ipynb\" target=\"_parent\"><img src=\"https://colab.research.google.com/assets/colab-badge.svg\" alt=\"Open In Colab\"/></a>"
      ]
    },
    {
      "cell_type": "markdown",
      "source": [
        "# Session 5 Exercises"
      ],
      "metadata": {
        "id": "xtigy_nHE7lW"
      }
    },
    {
      "cell_type": "markdown",
      "source": [
        "## DNA Parsing"
      ],
      "metadata": {
        "id": "2eu76lRtFAhc"
      }
    },
    {
      "cell_type": "code",
      "execution_count": 1,
      "metadata": {
        "id": "YnDGROY7E5Wb"
      },
      "outputs": [],
      "source": [
        "import numpy as np\n",
        "import matplotlib.pyplot as plt"
      ]
    },
    {
      "cell_type": "markdown",
      "source": [
        "We will be parsing a real DNA sequence to translate it into the corresponding protein sequence.\n",
        "\n",
        "DNA consists of a sequence of nucleotides (A, G, T, or C). In the genetic code, each group of three consecutive nucleotides form a codon that translates to a single amino acid. There are a small number of common amino acids - we can use a look-up table to pair each codon with the respective amino acid. We also have stop codons that signify that the DNA should stop being translated there.\n",
        "\n",
        "In this way, we can work through a DNA sequence, taking each group of three nucleotides (the first three, then the next three, and so on) and translating them to the corresponding amino acid. The resulting sequence of amino acids constitutes the protein that the DNA sequence codes.\n",
        "\n",
        "We are getting our data from a public repository of DNA sequences from NCBI. We will be looking at a DNA sequence from a Golden Retriever. The data can be found here.\n",
        "\n",
        "The cell below assigns the data to variables. You do not need to do anything.\n",
        "\n",
        "`dna_sequence` contains the DNA sequence.\n",
        "\n",
        "`dna_codons` stores the pairings from triplets/codons to amino acids in a dictionary. The triplets are the keys and the amino acids are the values.\n",
        "\n",
        "`true_translation` contains the translated protein (from the NCBI website, under CDS/translation)"
      ],
      "metadata": {
        "id": "gJ-MaiYTFDaY"
      }
    },
    {
      "cell_type": "code",
      "source": [
        "dna_sequence = 'ATGAGCGAGTCGAGCTCGAAGTCCAGCCAGCCTTTGGCCTCCAAGCAGGAAAAGGACGGCACTGAGAAGCGAGGGCGGGGCCGGCCGCGCAAGCAGCCTCCGAAGGAACCCAGTGAAGTGCCAACACCTAAGAGACCTCGGGGCCGACCAAAGGGGAGCAAAAACAAGGGTGCTGCCAAGACCCGGAAAACTACCACAACTCCAGGGAGGAAACCGAGGGGCAGACCCAAAAAACTGGAGAAGGAGGAAGAAGAGGGCATCTCGCAGGAGTCCTCCGAAGAGGAGCAGTGA'\n",
        "\n",
        "dna_codons = {'TTT' : 'F', 'CTT' : 'L', 'ATT' : 'I', 'GTT' : 'V',\n",
        "           'TTC' : 'F', 'CTC' : 'L', 'ATC' : 'I', 'GTC' : 'V',\n",
        "           'TTA' : 'L', 'CTA' : 'L', 'ATA' : 'I', 'GTA' : 'V',\n",
        "           'TTG' : 'L', 'CTG' : 'L', 'ATG' : 'M', 'GTG' : 'V',\n",
        "           'TCT' : 'S', 'CCT' : 'P', 'ACT' : 'T', 'GCT' : 'A',\n",
        "           'TCC' : 'S', 'CCC' : 'P', 'ACC' : 'T', 'GCC' : 'A',\n",
        "           'TCA' : 'S', 'CCA' : 'P', 'ACA' : 'T', 'GCA' : 'A',\n",
        "           'TCG' : 'S', 'CCG' : 'P', 'ACG' : 'T', 'GCG' : 'A',\n",
        "           'TAT' : 'Y', 'CAT' : 'H', 'AAT' : 'N', 'GAT' : 'D',\n",
        "           'TAC' : 'Y', 'CAC' : 'H', 'AAC' : 'N', 'GAC' : 'D',\n",
        "           'TAA' : 'STOP', 'CAA' : 'Q', 'AAA' : 'K', 'GAA' : 'E',\n",
        "           'TAG' : 'STOP', 'CAG' : 'Q', 'AAG' : 'K', 'GAG' : 'E',\n",
        "           'TGT' : 'C', 'CGT' : 'R', 'AGT' : 'S', 'GGT' : 'G',\n",
        "           'TGC' : 'C', 'CGC' : 'R', 'AGC' : 'S', 'GGC' : 'G',\n",
        "           'TGA' : 'STOP', 'CGA' : 'R', 'AGA' : 'R', 'GGA' : 'G',\n",
        "           'TGG' : 'W', 'CGG' : 'R', 'AGG' : 'R', 'GGG' : 'G'\n",
        "           }\n",
        "\n",
        "true_translation = 'MSESSSKSSQPLASKQEKDGTEKRGRGRPRKQPPKEPSEVPTPK\\\n",
        "RPRGRPKGSKNKGAAKTRKTTTTPGRKPRGRPKKLEKEEEEGISQESSEEEQ'"
      ],
      "metadata": {
        "id": "b3xG6gk3E8q9"
      },
      "execution_count": 2,
      "outputs": []
    },
    {
      "cell_type": "markdown",
      "source": [
        "1) Index into dna_sequence to get the first three nucleotides (ATG). Store this as a variable called codon"
      ],
      "metadata": {
        "id": "7C_sB4z0FJkH"
      }
    },
    {
      "cell_type": "code",
      "source": [],
      "metadata": {
        "id": "dfCQBga7FHyI"
      },
      "execution_count": null,
      "outputs": []
    },
    {
      "cell_type": "markdown",
      "source": [
        "2) Use the dna_codons dictionary to translate this codon to the corresponding amino acid. Store this as a variable called protein.\n",
        "\n",
        "Spoilers: you should get the amino acid M"
      ],
      "metadata": {
        "id": "zkCUlybpFLG2"
      }
    },
    {
      "cell_type": "code",
      "source": [],
      "metadata": {
        "id": "784RcnYkFLQW"
      },
      "execution_count": null,
      "outputs": []
    },
    {
      "cell_type": "markdown",
      "source": [
        "3) Index into dna_sequence to get the second codon (the next three nucleotides AGC). Translate this to an amino acid and add it to the protein string you created in 2.\n",
        "\n",
        "Spoilers: protein should now be \"MS\""
      ],
      "metadata": {
        "id": "0DbvuZt6FMp4"
      }
    },
    {
      "cell_type": "code",
      "source": [],
      "metadata": {
        "id": "JAC9H14BFM0s"
      },
      "execution_count": null,
      "outputs": []
    },
    {
      "cell_type": "markdown",
      "source": [
        "4) Get the length of dna_sequence (how many letters are there in this string)"
      ],
      "metadata": {
        "id": "M-WVwELsFOL0"
      }
    },
    {
      "cell_type": "code",
      "source": [],
      "metadata": {
        "id": "_HbEZQbsFOTy"
      },
      "execution_count": null,
      "outputs": []
    },
    {
      "cell_type": "markdown",
      "source": [
        "5) Create a for loop within which you grab and print each codon. So, on the first iteration of the for loop, your code should print the first three letters in dna_sequence (ATG). On the next iteration, you should print the next three letters (AGC), and so on."
      ],
      "metadata": {
        "id": "AD9fyvUjFPok"
      }
    },
    {
      "cell_type": "code",
      "source": [],
      "metadata": {
        "id": "NdMg82jYFPxb"
      },
      "execution_count": null,
      "outputs": []
    },
    {
      "cell_type": "markdown",
      "source": [
        "6) Within your for loop, translate each codon to the corresponding amino acid. How can we set things up so we get protein at the end as a string of all the translated amino acids?\n",
        "\n",
        "Hint: Initialize `protein` as an empty string\n",
        "with `protein = ''`"
      ],
      "metadata": {
        "id": "IpBV0b3KFStq"
      }
    },
    {
      "cell_type": "code",
      "source": [],
      "metadata": {
        "id": "1ry42APaFS2R"
      },
      "execution_count": null,
      "outputs": []
    },
    {
      "cell_type": "markdown",
      "source": [
        "(Advanced) 7) When we hit a stop codon (the amino acid is 'STOP'), we want to stop translating. Add this to the code above.\n",
        "\n",
        "If our sequence in the example above had been CCCCATAGTGGGAGCTAG, we would get'PHSGRSTOP' since TAG is a stop codon. We do not want to include the 'STOP'"
      ],
      "metadata": {
        "id": "FNwr37jxFXp1"
      }
    },
    {
      "cell_type": "code",
      "source": [],
      "metadata": {
        "id": "EfVruDwbFX3t"
      },
      "execution_count": null,
      "outputs": []
    },
    {
      "cell_type": "markdown",
      "source": [
        "## Function Practice"
      ],
      "metadata": {
        "id": "Evnf0AVcFf--"
      }
    },
    {
      "cell_type": "markdown",
      "source": [
        "1. Write a function `greet_guests` that will greet guests by name. The inputs should be the name and the greeting type. Try to do this using f-strings!\n",
        "\n",
        "For example,\n",
        "\n",
        "`greet_guests('Ella', 'Hello')` should return the string \"Hello, Ella!\"\n",
        "\n",
        "`greet_guests('Mary', 'Hi')` should return the string \"Hi, Mary!\"\n",
        "\n",
        "`greet_guests('Xander', 'Whatsup')` should return the string \"Whatsup, Xander!\"\n"
      ],
      "metadata": {
        "id": "KU3tJU03IvlX"
      }
    },
    {
      "cell_type": "code",
      "source": [],
      "metadata": {
        "id": "-sCo39C5FhQF"
      },
      "execution_count": null,
      "outputs": []
    },
    {
      "cell_type": "markdown",
      "source": [
        "2. In your function above, make the default value for the greeting type 'Hello'.\n",
        "\n",
        "So, `greet_guests('Ella')` should return the string \"Hello, Ella!\""
      ],
      "metadata": {
        "id": "oOdf6-3lI4Vf"
      }
    },
    {
      "cell_type": "code",
      "source": [],
      "metadata": {
        "id": "zwrVpFaGI4wt"
      },
      "execution_count": null,
      "outputs": []
    },
    {
      "cell_type": "markdown",
      "source": [
        "3. Write a function rescale that takes an array as input and returns a corresponding array of values scaled to lie in the range 0.0 to 1.0.\n",
        "\n",
        "Hint: If L and H are the lowest and highest values in the original array, then the rescaled value of value v should be (v-L) / (H-L).\n",
        "\n",
        "Note: This problem is modified from Software Carpentry CC-BY materials https://swcarpentry.github.io/python-novice-inflammation/08-func.html"
      ],
      "metadata": {
        "id": "e1BzpZx_I-GZ"
      }
    },
    {
      "cell_type": "code",
      "source": [
        "import numpy as np\n",
        "\n",
        "input_array = np.array([[3, 5, 1, 2], [6, 7, 5, 1]])\n",
        "\n"
      ],
      "metadata": {
        "id": "Aw6qKcSZI-RV"
      },
      "execution_count": null,
      "outputs": []
    },
    {
      "cell_type": "markdown",
      "source": [
        "(Advanced) 4. We want to create a function that takes in an array, finds the second largest value of the array and returns it. Specifically, we want the second largest of the unique values. For example, using the function on this array a = np.array([100, 100, 50]) should return 50, not 100.\n",
        "\n"
      ],
      "metadata": {
        "id": "H3qniDUEJAal"
      }
    },
    {
      "cell_type": "code",
      "source": [],
      "metadata": {
        "id": "Wn1x-7KuJAlJ"
      },
      "execution_count": null,
      "outputs": []
    }
  ]
}